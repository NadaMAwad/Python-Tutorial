{
 "cells": [
  {
   "cell_type": "markdown",
   "metadata": {
    "id": "jBqrr5C9Q2-I"
   },
   "source": [
    "## **Anaconda Setup**\n",
    "[Download from this link:](https://docs.anaconda.com/anaconda/install/)\n",
    "\n",
    "Check this video for installation: https://www.youtube.com/watch?v=9V2IvJWZJ3I"
   ]
  },
  {
   "cell_type": "markdown",
   "metadata": {
    "id": "0WANzRsZoOlh"
   },
   "source": [
    "# **Python Basics!**\n",
    " - Case Sensetive.\n",
    " - Spacing."
   ]
  },
  {
   "cell_type": "markdown",
   "metadata": {
    "id": "XZPKgf6D-dFo"
   },
   "source": [
    "## **Comments**"
   ]
  },
  {
   "cell_type": "markdown",
   "metadata": {
    "id": "QSAAmjcy-dFo"
   },
   "source": [
    "### Oneline comment"
   ]
  },
  {
   "cell_type": "code",
   "execution_count": 1,
   "metadata": {
    "colab": {
     "base_uri": "https://localhost:8080/"
    },
    "executionInfo": {
     "elapsed": 8,
     "status": "ok",
     "timestamp": 1668360094545,
     "user": {
      "displayName": "Nada Mohamed",
      "userId": "15069929351253987102"
     },
     "user_tz": -120
    },
    "id": "ZvWZMPnp-dFp",
    "outputId": "71711518-40cf-4fd7-a0ce-be0e267c47a5"
   },
   "outputs": [],
   "source": [
    "# one line comment \n"
   ]
  },
  {
   "cell_type": "markdown",
   "metadata": {
    "id": "II8naKC0-dFq"
   },
   "source": [
    "### Multiline comment"
   ]
  },
  {
   "cell_type": "code",
   "execution_count": 2,
   "metadata": {
    "colab": {
     "background_save": true
    },
    "id": "cMsTcipJ-dFr",
    "outputId": "1d842248-6866-4807-b251-71621a871234"
   },
   "outputs": [
    {
     "data": {
      "text/plain": [
       "'\\nThis is a comment\\nwritten in\\nmore than just one line\\n'"
      ]
     },
     "execution_count": 2,
     "metadata": {},
     "output_type": "execute_result"
    }
   ],
   "source": [
    "\"\"\"\n",
    "This is a comment\n",
    "written in\n",
    "more than just one line\n",
    "\"\"\"\n"
   ]
  },
  {
   "cell_type": "markdown",
   "metadata": {
    "id": "XwSgYAEu-dFt"
   },
   "source": [
    "As long as the string is not assigned to a variable, Python will read the code, but then ignore it, and you have made a multiline comment.\n",
    "\n"
   ]
  },
  {
   "cell_type": "markdown",
   "metadata": {
    "id": "qwy3h6KWqPjg"
   },
   "source": [
    "## **Operators**\n",
    "\n",
    "*   Addition +\n",
    "*   Subtraction -\n",
    "* Multiplication *\n",
    "* Division /\n",
    "*  Mod (the remainder after dividing) %\n",
    "* Exponentiation (note that ^ does not do this operation) **\n",
    "* Divides and rounds down to the nearest integer // \n",
    "\n"
   ]
  },
  {
   "cell_type": "code",
   "execution_count": 3,
   "metadata": {
    "id": "cu6nhJaMVmU-"
   },
   "outputs": [
    {
     "data": {
      "text/plain": [
       "2.6666666666666665"
      ]
     },
     "execution_count": 3,
     "metadata": {},
     "output_type": "execute_result"
    }
   ],
   "source": [
    "# Division \n",
    "8 / 3 "
   ]
  },
  {
   "cell_type": "code",
   "execution_count": 4,
   "metadata": {
    "id": "Xu10JpG6EFOG"
   },
   "outputs": [
    {
     "data": {
      "text/plain": [
       "4.0"
      ]
     },
     "execution_count": 4,
     "metadata": {},
     "output_type": "execute_result"
    }
   ],
   "source": [
    "8 / 2"
   ]
  },
  {
   "cell_type": "markdown",
   "metadata": {
    "id": "VSSrT3zI-dFw"
   },
   "source": [
    "**/ always return float number**"
   ]
  },
  {
   "cell_type": "code",
   "execution_count": 5,
   "metadata": {
    "id": "bEaTnE7E-dFw"
   },
   "outputs": [
    {
     "data": {
      "text/plain": [
       "4"
      ]
     },
     "execution_count": 5,
     "metadata": {},
     "output_type": "execute_result"
    }
   ],
   "source": [
    "8 // 2"
   ]
  },
  {
   "cell_type": "code",
   "execution_count": 6,
   "metadata": {
    "id": "K1sx-JQ9s02X"
   },
   "outputs": [
    {
     "data": {
      "text/plain": [
       "2"
      ]
     },
     "execution_count": 6,
     "metadata": {},
     "output_type": "execute_result"
    }
   ],
   "source": [
    "# Integer Division or Floor division\n",
    "8 // 3"
   ]
  },
  {
   "cell_type": "code",
   "execution_count": 7,
   "metadata": {
    "id": "69LKESIgugWy"
   },
   "outputs": [
    {
     "data": {
      "text/plain": [
       "-3"
      ]
     },
     "execution_count": 7,
     "metadata": {},
     "output_type": "execute_result"
    }
   ],
   "source": [
    "# Integer Division or Floor division\n",
    "\n",
    "-8 // 3"
   ]
  },
  {
   "cell_type": "markdown",
   "metadata": {
    "id": "O03-ZlDM-dFy"
   },
   "source": [
    "**// integer division or Floor division**"
   ]
  },
  {
   "cell_type": "code",
   "execution_count": 8,
   "metadata": {
    "id": "Wik-ZOmrtgxm"
   },
   "outputs": [
    {
     "data": {
      "text/plain": [
       "1"
      ]
     },
     "execution_count": 8,
     "metadata": {},
     "output_type": "execute_result"
    }
   ],
   "source": [
    "# Mod\n",
    "9 % 2"
   ]
  },
  {
   "cell_type": "code",
   "execution_count": 9,
   "metadata": {
    "id": "F46sHVBb-dFy"
   },
   "outputs": [
    {
     "data": {
      "text/plain": [
       "2"
      ]
     },
     "execution_count": 9,
     "metadata": {},
     "output_type": "execute_result"
    }
   ],
   "source": [
    "7 % 5 "
   ]
  },
  {
   "cell_type": "code",
   "execution_count": 10,
   "metadata": {
    "id": "-r2NdwrHtnKO"
   },
   "outputs": [
    {
     "data": {
      "text/plain": [
       "9"
      ]
     },
     "execution_count": 10,
     "metadata": {},
     "output_type": "execute_result"
    }
   ],
   "source": [
    "# Exponentiation\n",
    "3 ** 2"
   ]
  },
  {
   "cell_type": "code",
   "execution_count": 11,
   "metadata": {
    "id": "NBsU6EqstwMV"
   },
   "outputs": [
    {
     "data": {
      "text/plain": [
       "12"
      ]
     },
     "execution_count": 11,
     "metadata": {},
     "output_type": "execute_result"
    }
   ],
   "source": [
    "1 + 2 + 3 * 3"
   ]
  },
  {
   "cell_type": "code",
   "execution_count": 12,
   "metadata": {
    "id": "m2Ao8KTyuBB4"
   },
   "outputs": [
    {
     "data": {
      "text/plain": [
       "6"
      ]
     },
     "execution_count": 12,
     "metadata": {},
     "output_type": "execute_result"
    }
   ],
   "source": [
    "3 + 2 \n",
    "\n",
    "3 * 2 "
   ]
  },
  {
   "cell_type": "markdown",
   "metadata": {
    "id": "wirZ-LJ5vlMP"
   },
   "source": [
    "## **Print**"
   ]
  },
  {
   "cell_type": "code",
   "execution_count": 13,
   "metadata": {
    "id": "aiKhJp_2-dF1"
   },
   "outputs": [
    {
     "name": "stdout",
     "output_type": "stream",
     "text": [
      "3\n"
     ]
    }
   ],
   "source": [
    "# number\n",
    "print(3)"
   ]
  },
  {
   "cell_type": "code",
   "execution_count": 14,
   "metadata": {
    "id": "npuQXXiU0j_P"
   },
   "outputs": [
    {
     "name": "stdout",
     "output_type": "stream",
     "text": [
      "NADA\n"
     ]
    }
   ],
   "source": [
    "# string '' or \"\"\n",
    "print(\"NADA\")"
   ]
  },
  {
   "cell_type": "code",
   "execution_count": 15,
   "metadata": {
    "id": "0BM-l5gPvnes"
   },
   "outputs": [
    {
     "name": "stdout",
     "output_type": "stream",
     "text": [
      "5\n",
      "6\n"
     ]
    }
   ],
   "source": [
    "print(3+2)\n",
    "print(3*2)"
   ]
  },
  {
   "cell_type": "code",
   "execution_count": 16,
   "metadata": {
    "id": "G52dif-G0of4"
   },
   "outputs": [
    {
     "name": "stdout",
     "output_type": "stream",
     "text": [
      "Don't\n",
      "Don't\n"
     ]
    }
   ],
   "source": [
    "#Don't  -- 2 ways\n",
    "print(\"Don't\")\n",
    "print('Don\\'t')"
   ]
  },
  {
   "cell_type": "code",
   "execution_count": 17,
   "metadata": {
    "id": "WR4tIddZ2pNN"
   },
   "outputs": [
    {
     "name": "stdout",
     "output_type": "stream",
     "text": [
      "Sara\\Nour\n",
      "Sara/Nour\n"
     ]
    }
   ],
   "source": [
    "# Sara\\Nour\n",
    "print('Sara\\\\Nour')\n",
    "# Sara/Nour\n",
    "print('Sara/Nour')"
   ]
  },
  {
   "cell_type": "markdown",
   "metadata": {
    "id": "8eX0iSPx1Dyd"
   },
   "source": [
    "**Newline  -- 2 ways**"
   ]
  },
  {
   "cell_type": "code",
   "execution_count": null,
   "metadata": {
    "id": "TyvWrjbE-dF3"
   },
   "outputs": [],
   "source": [
    "# \\n \n",
    "print('Hello\\n world')"
   ]
  },
  {
   "cell_type": "code",
   "execution_count": 18,
   "metadata": {
    "id": "4rt3JTxc-dF3"
   },
   "outputs": [
    {
     "name": "stdout",
     "output_type": "stream",
     "text": [
      "Hello\n",
      "world\n"
     ]
    }
   ],
   "source": [
    "# \"\"\"   \"\"\"\n",
    "print(\"\"\"Hello\n",
    "world\"\"\")"
   ]
  },
  {
   "cell_type": "code",
   "execution_count": 20,
   "metadata": {
    "id": "s-u7Ttdd1HUA"
   },
   "outputs": [
    {
     "name": "stdout",
     "output_type": "stream",
     "text": [
      "nada\tmohmed\n"
     ]
    }
   ],
   "source": [
    "#tab \\t\n",
    "print(\"nada\\tmohmed\")\n"
   ]
  },
  {
   "cell_type": "code",
   "execution_count": 19,
   "metadata": {
    "id": "l3dS2jsZvv8b"
   },
   "outputs": [
    {
     "name": "stdout",
     "output_type": "stream",
     "text": [
      "nadamohmed\n",
      "nada mohmed\n",
      "Nada Mohamed\n"
     ]
    }
   ],
   "source": [
    "# concatnate\n",
    "print(\"nada\" + \"mohmed\")\n",
    "print(\"nada\" + ' ' + \"mohmed\")\n",
    "print('Nada', 'Mohamed')"
   ]
  },
  {
   "cell_type": "code",
   "execution_count": 21,
   "metadata": {
    "id": "Db7Ms8be29h6"
   },
   "outputs": [
    {
     "name": "stdout",
     "output_type": "stream",
     "text": [
      "1\n",
      "2\n",
      "3\n"
     ]
    }
   ],
   "source": [
    "# default Newline like Console.WriteLine() in c#\n",
    "print(1)\n",
    "print(2)\n",
    "print(3)\n"
   ]
  },
  {
   "cell_type": "code",
   "execution_count": 22,
   "metadata": {
    "id": "CEfO1L2k3P-5"
   },
   "outputs": [
    {
     "name": "stdout",
     "output_type": "stream",
     "text": [
      "1 2 3 "
     ]
    }
   ],
   "source": [
    "# One line  like Console.Write() in c#\n",
    "# 1 2 3 \n",
    "print(1, end = ' ')\n",
    "print(2, end = ' ')\n",
    "print(3, end = ' ')\n"
   ]
  },
  {
   "cell_type": "markdown",
   "metadata": {
    "id": "kA4PcaOmx-gd"
   },
   "source": [
    "## **Variables** \n",
    " used to store value, call .. and update it(sometimes)\n",
    " - Program \n",
    " - User"
   ]
  },
  {
   "cell_type": "code",
   "execution_count": 23,
   "metadata": {
    "id": "RF1xL9P8yBOm"
   },
   "outputs": [
    {
     "name": "stdout",
     "output_type": "stream",
     "text": [
      "3\n",
      "<class 'int'>\n"
     ]
    }
   ],
   "source": [
    "x = 3\n",
    "print(x)\n",
    "print(type(x))"
   ]
  },
  {
   "cell_type": "code",
   "execution_count": 24,
   "metadata": {
    "id": "1AsQ-5hM-dF6"
   },
   "outputs": [
    {
     "name": "stdout",
     "output_type": "stream",
     "text": [
      "N\n",
      "<class 'str'>\n"
     ]
    }
   ],
   "source": [
    "# can i do that?\n",
    "x = \"N\"\n",
    "print(x)\n",
    "print(type(x))"
   ]
  },
  {
   "cell_type": "code",
   "execution_count": 25,
   "metadata": {
    "id": "56_xOab83iyN"
   },
   "outputs": [
    {
     "name": "stdout",
     "output_type": "stream",
     "text": [
      "z = 7\n",
      "y = 14\n"
     ]
    }
   ],
   "source": [
    "z = 3 + 4\n",
    "print(\"z =\",z)\n",
    "\n",
    "y = z * 2\n",
    "print(\"y =\",y)\n"
   ]
  },
  {
   "cell_type": "code",
   "execution_count": 26,
   "metadata": {
    "id": "icBRghFowzb6"
   },
   "outputs": [
    {
     "data": {
      "text/plain": [
       "6"
      ]
     },
     "execution_count": 26,
     "metadata": {},
     "output_type": "execute_result"
    }
   ],
   "source": [
    "Z = 1\n",
    "Z +=5\n",
    "Z"
   ]
  },
  {
   "cell_type": "code",
   "execution_count": 27,
   "metadata": {
    "id": "7n_RECEa9H1g"
   },
   "outputs": [],
   "source": [
    "# variables names\n",
    "_n = 3\n",
    "n = 3 \n",
    "#1n = 3\n",
    "#-n = 3\n",
    "#n*3 = 3\n",
    "#keywords\n",
    "\n",
    "#help()"
   ]
  },
  {
   "cell_type": "code",
   "execution_count": 28,
   "metadata": {
    "id": "s1nHJSBnAm99"
   },
   "outputs": [],
   "source": [
    "# more than one var in one line \n",
    "x, y = 3 , 4"
   ]
  },
  {
   "cell_type": "code",
   "execution_count": 29,
   "metadata": {
    "id": "7WpXm6VH-dF7",
    "outputId": "bf4b9af5-c720-4c61-b269-7098bfdec05d"
   },
   "outputs": [
    {
     "name": "stdout",
     "output_type": "stream",
     "text": [
      "Orange\n",
      "Orange\n",
      "Orange\n"
     ]
    }
   ],
   "source": [
    "# Assign one value to many variables\n",
    "x = y = z = \"Orange\"\n",
    "print(x)\n",
    "print(y)\n",
    "print(z)"
   ]
  },
  {
   "cell_type": "code",
   "execution_count": null,
   "metadata": {
    "colab": {
     "base_uri": "https://localhost:8080/"
    },
    "executionInfo": {
     "elapsed": 24733,
     "status": "ok",
     "timestamp": 1668361823342,
     "user": {
      "displayName": "Osama Badr",
      "userId": "10495641659236706823"
     },
     "user_tz": -120
    },
    "id": "5KrRH6Vc-Nwp",
    "outputId": "823e5257-8240-4c82-a34d-4662b72e53e9"
   },
   "outputs": [
    {
     "name": "stdout",
     "output_type": "stream",
     "text": [
      "3\n"
     ]
    }
   ],
   "source": [
    "# Save data from user \n",
    "x = input()"
   ]
  },
  {
   "cell_type": "code",
   "execution_count": 30,
   "metadata": {
    "id": "NVlil1rI-lmz"
   },
   "outputs": [
    {
     "name": "stdout",
     "output_type": "stream",
     "text": [
      "Hi3\n"
     ]
    }
   ],
   "source": [
    "#  input message\n",
    "x = input(\"Hi\")"
   ]
  },
  {
   "cell_type": "code",
   "execution_count": 31,
   "metadata": {
    "id": "v7HB3FxP-wCU"
   },
   "outputs": [
    {
     "name": "stdout",
     "output_type": "stream",
     "text": [
      "Hi\n",
      "3\n"
     ]
    }
   ],
   "source": [
    "#input message newline\n",
    "x = input(\"Hi\\n\")"
   ]
  },
  {
   "cell_type": "code",
   "execution_count": 32,
   "metadata": {
    "id": "d-vwCT9-_buv"
   },
   "outputs": [
    {
     "data": {
      "text/plain": [
       "str"
      ]
     },
     "execution_count": 32,
     "metadata": {},
     "output_type": "execute_result"
    }
   ],
   "source": [
    "#input datatype\n",
    "type(x)"
   ]
  },
  {
   "cell_type": "code",
   "execution_count": 33,
   "metadata": {
    "id": "d3BRU5vq_gRc"
   },
   "outputs": [
    {
     "name": "stdout",
     "output_type": "stream",
     "text": [
      "Hi\n",
      "3\n"
     ]
    }
   ],
   "source": [
    "# right numeric  input\n",
    "x = int(input(\"Hi\\n\"))\n",
    "## int, float, bool, string"
   ]
  },
  {
   "cell_type": "code",
   "execution_count": 34,
   "metadata": {},
   "outputs": [
    {
     "data": {
      "text/plain": [
       "int"
      ]
     },
     "execution_count": 34,
     "metadata": {},
     "output_type": "execute_result"
    }
   ],
   "source": [
    "#input datatype\n",
    "type(x)"
   ]
  },
  {
   "cell_type": "code",
   "execution_count": 35,
   "metadata": {
    "id": "Jt0e0A1M-dF8"
   },
   "outputs": [
    {
     "name": "stdout",
     "output_type": "stream",
     "text": [
      "<class 'float'>\n",
      "<class 'float'>\n",
      "<class 'complex'>\n"
     ]
    }
   ],
   "source": [
    "x = 1.10\n",
    "y = x = 35e3\n",
    "z = -35.59j\n",
    "\n",
    "print(type(x))\n",
    "print(type(y))\n",
    "print(type(z))"
   ]
  },
  {
   "cell_type": "markdown",
   "metadata": {
    "id": "bhhm4rVh_s7Q"
   },
   "source": [
    "## **String**"
   ]
  },
  {
   "cell_type": "code",
   "execution_count": 36,
   "metadata": {
    "id": "QMnMelCj_wtN"
   },
   "outputs": [],
   "source": [
    "# ' ' or \" \"\n",
    "Name = 'Ali'\n",
    "Name = \"Mohamed\""
   ]
  },
  {
   "cell_type": "code",
   "execution_count": 37,
   "metadata": {
    "id": "zjxPaKkv-dF9"
   },
   "outputs": [
    {
     "name": "stdout",
     "output_type": "stream",
     "text": [
      "MohamedMohamedMohamed\n"
     ]
    }
   ],
   "source": [
    "x = Name * 3\n",
    "print(x)"
   ]
  },
  {
   "cell_type": "markdown",
   "metadata": {
    "id": "uBs4ZcDi-dF9"
   },
   "source": [
    "### indexing"
   ]
  },
  {
   "cell_type": "code",
   "execution_count": 38,
   "metadata": {
    "id": "T1HiE4xmESOl"
   },
   "outputs": [
    {
     "name": "stdout",
     "output_type": "stream",
     "text": [
      "M\n"
     ]
    }
   ],
   "source": [
    "# Ali -- A:0 , l:1 , i:2\n",
    "\n",
    "print(Name[0])\n",
    "# print(Name[3]) #out of range"
   ]
  },
  {
   "cell_type": "markdown",
   "metadata": {
    "id": "s_4aDJS3FQA6"
   },
   "source": [
    "### Slicing "
   ]
  },
  {
   "cell_type": "code",
   "execution_count": 39,
   "metadata": {
    "id": "F6hiI2-tEvFd"
   },
   "outputs": [
    {
     "data": {
      "text/plain": [
       "'AB'"
      ]
     },
     "execution_count": 39,
     "metadata": {},
     "output_type": "execute_result"
    }
   ],
   "source": [
    "S = 'ABCDEF'\n",
    "# A: 0  B:1   C:2   D:3   E:4   F:5 \n",
    "\n",
    "S[0:2]\n",
    "S[:2]"
   ]
  },
  {
   "cell_type": "code",
   "execution_count": 40,
   "metadata": {
    "id": "Bi4u3jLYFh8K"
   },
   "outputs": [
    {
     "data": {
      "text/plain": [
       "'CD'"
      ]
     },
     "execution_count": 40,
     "metadata": {},
     "output_type": "execute_result"
    }
   ],
   "source": [
    "# print CD\n",
    "S[2:4]"
   ]
  },
  {
   "cell_type": "code",
   "execution_count": 41,
   "metadata": {
    "id": "Em_0Lt1gGkO4"
   },
   "outputs": [
    {
     "data": {
      "text/plain": [
       "'ABCDE'"
      ]
     },
     "execution_count": 41,
     "metadata": {},
     "output_type": "execute_result"
    }
   ],
   "source": [
    "# A: -6  B:-5   C:-4   D:-3   E:-2   F:-1\n",
    "# all char except the last (negative index)\n",
    "S[:-1]"
   ]
  },
  {
   "cell_type": "code",
   "execution_count": 42,
   "metadata": {
    "id": "oXmeLoTXF6QW"
   },
   "outputs": [
    {
     "data": {
      "text/plain": [
       "'BCDE'"
      ]
     },
     "execution_count": 42,
     "metadata": {},
     "output_type": "execute_result"
    }
   ],
   "source": [
    "# all char except the  first & The last (negative index)\n",
    "S[1:-1]"
   ]
  },
  {
   "cell_type": "markdown",
   "metadata": {
    "id": "owrmBVM9NKD0"
   },
   "source": [
    "### Split"
   ]
  },
  {
   "cell_type": "code",
   "execution_count": 43,
   "metadata": {
    "id": "l3DZGMXdKRVx"
   },
   "outputs": [],
   "source": [
    "Example = 'nada mohamed awad.'"
   ]
  },
  {
   "cell_type": "code",
   "execution_count": 44,
   "metadata": {
    "id": "FRHqZW0qNLjA"
   },
   "outputs": [
    {
     "data": {
      "text/plain": [
       "['nada', 'mohamed', 'awad.']"
      ]
     },
     "execution_count": 44,
     "metadata": {},
     "output_type": "execute_result"
    }
   ],
   "source": [
    "# Split to list\n",
    "Example.split()"
   ]
  },
  {
   "cell_type": "code",
   "execution_count": 45,
   "metadata": {
    "id": "_Wy4wctuNP8n"
   },
   "outputs": [],
   "source": [
    "#split & assign to variables\n",
    "fname, midname, lname = Example.split()"
   ]
  },
  {
   "cell_type": "code",
   "execution_count": null,
   "metadata": {
    "id": "EDmkPuguNYQ2",
    "outputId": "fe18730e-4484-4ba9-b77a-42d5a85da708"
   },
   "outputs": [
    {
     "data": {
      "text/plain": [
       "'mohamed'"
      ]
     },
     "execution_count": 35,
     "metadata": {},
     "output_type": "execute_result"
    }
   ],
   "source": [
    "#test\n",
    "midname"
   ]
  },
  {
   "cell_type": "code",
   "execution_count": 46,
   "metadata": {
    "id": "eLeI1ZK2Nasl"
   },
   "outputs": [
    {
     "data": {
      "text/plain": [
       "['nada', 'mohamed']"
      ]
     },
     "execution_count": 46,
     "metadata": {},
     "output_type": "execute_result"
    }
   ],
   "source": [
    "# split by specific char\n",
    "Example2 = 'nada-mohamed'\n",
    "Example2.split('-')"
   ]
  },
  {
   "cell_type": "code",
   "execution_count": 47,
   "metadata": {
    "id": "McslSupPYVOb"
   },
   "outputs": [
    {
     "data": {
      "text/plain": [
       "['nada mohamed awad', '']"
      ]
     },
     "execution_count": 47,
     "metadata": {},
     "output_type": "execute_result"
    }
   ],
   "source": [
    "Example.split('.')"
   ]
  },
  {
   "cell_type": "code",
   "execution_count": 48,
   "metadata": {
    "id": "xuZGAyZRXzr3"
   },
   "outputs": [
    {
     "data": {
      "text/plain": [
       "['nada', 'mohamed awad.']"
      ]
     },
     "execution_count": 48,
     "metadata": {},
     "output_type": "execute_result"
    }
   ],
   "source": [
    "# custom split \n",
    "Example.split(' ', 1)"
   ]
  },
  {
   "cell_type": "markdown",
   "metadata": {
    "id": "dWVMFnbCOdHK"
   },
   "source": [
    "### Join"
   ]
  },
  {
   "cell_type": "code",
   "execution_count": 49,
   "metadata": {
    "id": "i4ZuWtXeOevY"
   },
   "outputs": [
    {
     "data": {
      "text/plain": [
       "'nada*mohamed*awad.'"
      ]
     },
     "execution_count": 49,
     "metadata": {},
     "output_type": "execute_result"
    }
   ],
   "source": [
    "#join strings with word or char\n",
    "'*'.join([fname, midname, lname])"
   ]
  },
  {
   "cell_type": "markdown",
   "metadata": {
    "id": "Upw1TCRPJ-_W"
   },
   "source": [
    "### Some String Functions"
   ]
  },
  {
   "cell_type": "code",
   "execution_count": 50,
   "metadata": {
    "id": "9PZE-BTSKn5r"
   },
   "outputs": [
    {
     "data": {
      "text/plain": [
       "18"
      ]
     },
     "execution_count": 50,
     "metadata": {},
     "output_type": "execute_result"
    }
   ],
   "source": [
    "# length \n",
    "len(Example)"
   ]
  },
  {
   "cell_type": "code",
   "execution_count": 51,
   "metadata": {
    "id": "747qQ5UkKtEp"
   },
   "outputs": [
    {
     "data": {
      "text/plain": [
       "'Nada mohamed awad.'"
      ]
     },
     "execution_count": 51,
     "metadata": {},
     "output_type": "execute_result"
    }
   ],
   "source": [
    "# Capitalized (First char)\n",
    "Example.capitalize()"
   ]
  },
  {
   "cell_type": "code",
   "execution_count": 52,
   "metadata": {
    "id": "at5rXFMrLEx7"
   },
   "outputs": [
    {
     "data": {
      "text/plain": [
       "'nada mohamed awad.'"
      ]
     },
     "execution_count": 52,
     "metadata": {},
     "output_type": "execute_result"
    }
   ],
   "source": [
    "# lower case\n",
    "Example.lower()"
   ]
  },
  {
   "cell_type": "code",
   "execution_count": 53,
   "metadata": {
    "id": "t46Yld0SLMVj"
   },
   "outputs": [
    {
     "data": {
      "text/plain": [
       "'NADA MOHAMED AWAD.'"
      ]
     },
     "execution_count": 53,
     "metadata": {},
     "output_type": "execute_result"
    }
   ],
   "source": [
    "# upper case \n",
    "Example.upper()"
   ]
  },
  {
   "cell_type": "code",
   "execution_count": 54,
   "metadata": {
    "id": "7Wq5NQ0QTlkl"
   },
   "outputs": [
    {
     "data": {
      "text/plain": [
       "True"
      ]
     },
     "execution_count": 54,
     "metadata": {},
     "output_type": "execute_result"
    }
   ],
   "source": [
    "## is lower? \n",
    "Example.islower()"
   ]
  },
  {
   "cell_type": "code",
   "execution_count": 55,
   "metadata": {
    "id": "5GGldc1yLY5a"
   },
   "outputs": [
    {
     "data": {
      "text/plain": [
       "'nada mohamed awad.'"
      ]
     },
     "execution_count": 55,
     "metadata": {},
     "output_type": "execute_result"
    }
   ],
   "source": [
    "Example"
   ]
  },
  {
   "cell_type": "code",
   "execution_count": 56,
   "metadata": {
    "id": "OUqmBszbLa1j"
   },
   "outputs": [
    {
     "data": {
      "text/plain": [
       "5"
      ]
     },
     "execution_count": 56,
     "metadata": {},
     "output_type": "execute_result"
    }
   ],
   "source": [
    "# Searching for char or substring\n",
    "Example.index('m')\n"
   ]
  },
  {
   "cell_type": "code",
   "execution_count": 57,
   "metadata": {
    "id": "NGKJjXaQV5V8"
   },
   "outputs": [
    {
     "data": {
      "text/plain": [
       "5"
      ]
     },
     "execution_count": 57,
     "metadata": {},
     "output_type": "execute_result"
    }
   ],
   "source": [
    "Example.find('m')"
   ]
  },
  {
   "cell_type": "markdown",
   "metadata": {
    "id": "bdidRYBuV7Wb"
   },
   "source": [
    "#### for more details: https://www.geeksforgeeks.org/difference-between-find-and-index-in-python/"
   ]
  },
  {
   "cell_type": "code",
   "execution_count": 60,
   "metadata": {
    "id": "k52HfWxUMVZO"
   },
   "outputs": [
    {
     "data": {
      "text/plain": [
       "True"
      ]
     },
     "execution_count": 60,
     "metadata": {},
     "output_type": "execute_result"
    }
   ],
   "source": [
    "## start with?\n",
    "Example.startswith('na') # case sensetive"
   ]
  },
  {
   "cell_type": "code",
   "execution_count": 61,
   "metadata": {
    "id": "vKpi-waPMynw"
   },
   "outputs": [
    {
     "data": {
      "text/plain": [
       "False"
      ]
     },
     "execution_count": 61,
     "metadata": {},
     "output_type": "execute_result"
    }
   ],
   "source": [
    "## end with?\n",
    "Example.endswith('a')"
   ]
  },
  {
   "cell_type": "code",
   "execution_count": 62,
   "metadata": {
    "id": "n0DlcF_UNAb8"
   },
   "outputs": [
    {
     "data": {
      "text/plain": [
       "3"
      ]
     },
     "execution_count": 62,
     "metadata": {},
     "output_type": "execute_result"
    }
   ],
   "source": [
    "## count\n",
    "Example.count('d')"
   ]
  },
  {
   "cell_type": "code",
   "execution_count": 63,
   "metadata": {
    "id": "uOn-Q4veUIpB"
   },
   "outputs": [
    {
     "data": {
      "text/plain": [
       "0"
      ]
     },
     "execution_count": 63,
     "metadata": {},
     "output_type": "execute_result"
    }
   ],
   "source": [
    "## count \n",
    "Example.count('A')"
   ]
  },
  {
   "cell_type": "code",
   "execution_count": 64,
   "metadata": {
    "id": "txR4-59S-dGF"
   },
   "outputs": [
    {
     "name": "stdout",
     "output_type": "stream",
     "text": [
      "Jello, World!\n"
     ]
    }
   ],
   "source": [
    "#replace values\n",
    "a = \"Hello, World!\"\n",
    "print(a.replace(\"H\", \"J\"))\n",
    "# print(a)  not change"
   ]
  },
  {
   "cell_type": "code",
   "execution_count": 65,
   "metadata": {
    "id": "1DykrKshW89Q"
   },
   "outputs": [
    {
     "name": "stdout",
     "output_type": "stream",
     "text": [
      "Hello, World!\n"
     ]
    }
   ],
   "source": [
    "# removes any whitespace from the beginning or the end \n",
    "a = \" Hello, World! \"\n",
    "print(a.strip()) # returns \"Hello, World!\""
   ]
  },
  {
   "cell_type": "code",
   "execution_count": 66,
   "metadata": {
    "id": "HtiB2f3vW1cj"
   },
   "outputs": [
    {
     "name": "stdout",
     "output_type": "stream",
     "text": [
      "Mohammed has 27 balloons\n"
     ]
    }
   ],
   "source": [
    "print(\"Mohammed has {} balloons\".format(27))"
   ]
  },
  {
   "cell_type": "code",
   "execution_count": 67,
   "metadata": {
    "id": "ZAcSJoEQW2Sh"
   },
   "outputs": [
    {
     "name": "stdout",
     "output_type": "stream",
     "text": [
      "Does your dog bite?\n"
     ]
    }
   ],
   "source": [
    "animal = \"dog\"\n",
    "action = \"bite\"\n",
    "print(\"Does your {} {}?\".format(animal, action))"
   ]
  },
  {
   "cell_type": "markdown",
   "metadata": {
    "id": "_KYCpfLdPLHw"
   },
   "source": [
    "### F-string"
   ]
  },
  {
   "cell_type": "code",
   "execution_count": 68,
   "metadata": {
    "id": "T3l_5NaK-dGG",
    "outputId": "8e0b34db-7d3b-4698-fa58-400ffbab603e"
   },
   "outputs": [
    {
     "name": "stdout",
     "output_type": "stream",
     "text": [
      "Mohammed has 27 balloons\n"
     ]
    }
   ],
   "source": [
    "num_ballons = 27\n",
    "print(f\"Mohammed has {num_ballons} balloons\")"
   ]
  },
  {
   "cell_type": "code",
   "execution_count": 69,
   "metadata": {
    "id": "q8j1Sk-E-dGH",
    "outputId": "8dcae8ae-07df-4e6d-cab8-fc165700e2aa"
   },
   "outputs": [
    {
     "name": "stdout",
     "output_type": "stream",
     "text": [
      "Does your dog bite?\n"
     ]
    }
   ],
   "source": [
    "animal = \"dog\"\n",
    "action = \"bite\"\n",
    "print(f\"Does your {animal} {action}?\")"
   ]
  },
  {
   "cell_type": "markdown",
   "metadata": {
    "id": "Vh9HIOIjFDgM"
   },
   "source": [
    "## **Data Structures**"
   ]
  },
  {
   "cell_type": "markdown",
   "metadata": {
    "id": "QynHXqNMPYTO"
   },
   "source": [
    "### **list [ ]**\n",
    "Lists are used to store multiple items in a single variable.\n",
    "- mutable\n",
    "- orderd\n",
    "- allow duplicates"
   ]
  },
  {
   "cell_type": "code",
   "execution_count": null,
   "metadata": {
    "colab": {
     "base_uri": "https://localhost:8080/"
    },
    "executionInfo": {
     "elapsed": 1709,
     "status": "ok",
     "timestamp": 1668364233047,
     "user": {
      "displayName": "Nada Mohamed",
      "userId": "15069929351253987102"
     },
     "user_tz": -120
    },
    "id": "SA9IbrTRJuY5",
    "outputId": "12ed515a-d9c2-4fe5-9b2b-0e387dc5cfea"
   },
   "outputs": [
    {
     "data": {
      "text/plain": [
       "[1, 10, 5, 5]"
      ]
     },
     "execution_count": 5,
     "metadata": {},
     "output_type": "execute_result"
    }
   ],
   "source": [
    "l = [1,10,5,5]\n",
    "#l = ['a','b']\n",
    "l"
   ]
  },
  {
   "cell_type": "code",
   "execution_count": null,
   "metadata": {
    "colab": {
     "base_uri": "https://localhost:8080/"
    },
    "executionInfo": {
     "elapsed": 17,
     "status": "ok",
     "timestamp": 1668364238351,
     "user": {
      "displayName": "Nada Mohamed",
      "userId": "15069929351253987102"
     },
     "user_tz": -120
    },
    "id": "pemXOmb_KlO0",
    "outputId": "ad94c768-8a3f-4bf7-e4ca-e2e3ddb5cd56"
   },
   "outputs": [
    {
     "data": {
      "text/plain": [
       "[1, 'm', 3.1]"
      ]
     },
     "execution_count": 6,
     "metadata": {},
     "output_type": "execute_result"
    }
   ],
   "source": [
    "# allow different data types?\n",
    "l2 = [1,'m',3.1]\n",
    "l2"
   ]
  },
  {
   "cell_type": "markdown",
   "metadata": {
    "id": "HREuz3nm-dGI"
   },
   "source": [
    "#### indexing"
   ]
  },
  {
   "cell_type": "code",
   "execution_count": null,
   "metadata": {
    "colab": {
     "base_uri": "https://localhost:8080/"
    },
    "executionInfo": {
     "elapsed": 532,
     "status": "ok",
     "timestamp": 1668364244619,
     "user": {
      "displayName": "Nada Mohamed",
      "userId": "15069929351253987102"
     },
     "user_tz": -120
    },
    "id": "v0aUCQPuXqWD",
    "outputId": "241a48d2-d26f-4577-9775-ef891be377e7"
   },
   "outputs": [
    {
     "data": {
      "text/plain": [
       "1"
      ]
     },
     "execution_count": 7,
     "metadata": {},
     "output_type": "execute_result"
    }
   ],
   "source": [
    "l2 = [1,'m',3.1]\n",
    "l2[0]"
   ]
  },
  {
   "cell_type": "code",
   "execution_count": null,
   "metadata": {
    "id": "6_bTNq8qXu42"
   },
   "outputs": [],
   "source": [
    "#l2[3]"
   ]
  },
  {
   "cell_type": "code",
   "execution_count": null,
   "metadata": {
    "colab": {
     "base_uri": "https://localhost:8080/"
    },
    "executionInfo": {
     "elapsed": 6,
     "status": "ok",
     "timestamp": 1668364298002,
     "user": {
      "displayName": "Nada Mohamed",
      "userId": "15069929351253987102"
     },
     "user_tz": -120
    },
    "id": "GvySVce3aOlH",
    "outputId": "ca4c77e1-0ad7-4160-8660-e76d8ddb281e"
   },
   "outputs": [
    {
     "data": {
      "text/plain": [
       "3.1"
      ]
     },
     "execution_count": 9,
     "metadata": {},
     "output_type": "execute_result"
    }
   ],
   "source": [
    "#last element \n",
    "l2[-1]"
   ]
  },
  {
   "cell_type": "code",
   "execution_count": null,
   "metadata": {
    "colab": {
     "base_uri": "https://localhost:8080/"
    },
    "executionInfo": {
     "elapsed": 7,
     "status": "ok",
     "timestamp": 1668364277358,
     "user": {
      "displayName": "Nada Mohamed",
      "userId": "15069929351253987102"
     },
     "user_tz": -120
    },
    "id": "rFikemJDYROE",
    "outputId": "8bf34dfb-9578-4abc-e845-752769604818"
   },
   "outputs": [
    {
     "name": "stdout",
     "output_type": "stream",
     "text": [
      "31\n"
     ]
    }
   ],
   "source": [
    "# use list indexing to determine the number of days in month\n",
    "month = 8\n",
    "days_in_month = [31,28,31,30,31,30,31,31,30,31,30,31]\n",
    "num_days = days_in_month[month - 1]\n",
    "\n",
    "print(num_days)"
   ]
  },
  {
   "cell_type": "markdown",
   "metadata": {
    "id": "Zli-8l5J-dGJ"
   },
   "source": [
    "#### slicing"
   ]
  },
  {
   "cell_type": "code",
   "execution_count": null,
   "metadata": {
    "id": "s7lKAD_1aaNa"
   },
   "outputs": [],
   "source": [
    "planets = ['Mercury', 'Venus', 'Earth', 'Mars', 'Jupiter', 'Saturn', 'Uranus', 'Neptune']\n"
   ]
  },
  {
   "cell_type": "code",
   "execution_count": null,
   "metadata": {
    "colab": {
     "base_uri": "https://localhost:8080/"
    },
    "executionInfo": {
     "elapsed": 854,
     "status": "ok",
     "timestamp": 1668364307066,
     "user": {
      "displayName": "Nada Mohamed",
      "userId": "15069929351253987102"
     },
     "user_tz": -120
    },
    "id": "E6MQl09HaiWO",
    "outputId": "bd50535b-d4c2-4259-f93b-edf5f1816046"
   },
   "outputs": [
    {
     "data": {
      "text/plain": [
       "['Mercury', 'Venus', 'Earth']"
      ]
     },
     "execution_count": 11,
     "metadata": {},
     "output_type": "execute_result"
    }
   ],
   "source": [
    "planets[0:3]\n"
   ]
  },
  {
   "cell_type": "code",
   "execution_count": null,
   "metadata": {
    "colab": {
     "base_uri": "https://localhost:8080/"
    },
    "executionInfo": {
     "elapsed": 12,
     "status": "ok",
     "timestamp": 1668364309754,
     "user": {
      "displayName": "Nada Mohamed",
      "userId": "15069929351253987102"
     },
     "user_tz": -120
    },
    "id": "LwzqVwIgamZb",
    "outputId": "0a81383c-669c-4b54-94cc-1e0f18529846"
   },
   "outputs": [
    {
     "data": {
      "text/plain": [
       "['Mars', 'Jupiter', 'Saturn', 'Uranus', 'Neptune']"
      ]
     },
     "execution_count": 12,
     "metadata": {},
     "output_type": "execute_result"
    }
   ],
   "source": [
    "planets[3:]\n"
   ]
  },
  {
   "cell_type": "code",
   "execution_count": null,
   "metadata": {
    "colab": {
     "base_uri": "https://localhost:8080/"
    },
    "executionInfo": {
     "elapsed": 3,
     "status": "ok",
     "timestamp": 1668364311738,
     "user": {
      "displayName": "Nada Mohamed",
      "userId": "15069929351253987102"
     },
     "user_tz": -120
    },
    "id": "0iooQ4cSav25",
    "outputId": "a655c5d6-74e1-46df-dd4c-5e5512f34a5d"
   },
   "outputs": [
    {
     "data": {
      "text/plain": [
       "['Saturn', 'Uranus', 'Neptune']"
      ]
     },
     "execution_count": 13,
     "metadata": {},
     "output_type": "execute_result"
    }
   ],
   "source": [
    "# The last 3 planets\n",
    "planets[-3:]"
   ]
  },
  {
   "cell_type": "markdown",
   "metadata": {
    "id": "PT6PguZK-dGK"
   },
   "source": [
    "#### list of lists"
   ]
  },
  {
   "cell_type": "code",
   "execution_count": null,
   "metadata": {
    "id": "q4VpRgnbYhAY"
   },
   "outputs": [],
   "source": [
    "hands = [\n",
    "    ['J', 'Q', 'K'],\n",
    "    ['2', '2', '2'],\n",
    "    ['6', 'A', 'K'], # (Comma after the last element is optional)\n",
    "]\n",
    "# (I could also have written this on one line, but it can get hard to read)\n",
    "hands = [['J', 'Q', 'K'], ['2', '2', '2'], ['6', 'A', 'K']]"
   ]
  },
  {
   "cell_type": "code",
   "execution_count": null,
   "metadata": {
    "colab": {
     "base_uri": "https://localhost:8080/",
     "height": 35
    },
    "executionInfo": {
     "elapsed": 10,
     "status": "ok",
     "timestamp": 1668364323380,
     "user": {
      "displayName": "Nada Mohamed",
      "userId": "15069929351253987102"
     },
     "user_tz": -120
    },
    "id": "NedFQp4mfESG",
    "outputId": "ad04e7df-3a51-4089-aae9-7782b7df16f1"
   },
   "outputs": [
    {
     "data": {
      "application/vnd.google.colaboratory.intrinsic+json": {
       "type": "string"
      },
      "text/plain": [
       "'J'"
      ]
     },
     "execution_count": 15,
     "metadata": {},
     "output_type": "execute_result"
    }
   ],
   "source": [
    "hands[0][0]"
   ]
  },
  {
   "cell_type": "markdown",
   "metadata": {
    "id": "_HR9mtolNgNd"
   },
   "source": [
    "**Mutability**"
   ]
  },
  {
   "cell_type": "markdown",
   "metadata": {
    "id": "2-CWVxV3O8g-"
   },
   "source": [
    "Mutability is about whether or not we can change an object once it has been created.\n",
    "\n",
    " - If an object can be changed then it is called **mutable**\n",
    " \n",
    " - If not : **immutable**"
   ]
  },
  {
   "cell_type": "code",
   "execution_count": null,
   "metadata": {
    "id": "iLzuaR5zLpFg"
   },
   "outputs": [],
   "source": [
    "# Lists are mutable\n",
    "X = [1,2,3]"
   ]
  },
  {
   "cell_type": "code",
   "execution_count": null,
   "metadata": {
    "colab": {
     "base_uri": "https://localhost:8080/"
    },
    "executionInfo": {
     "elapsed": 11,
     "status": "ok",
     "timestamp": 1668364331346,
     "user": {
      "displayName": "Nada Mohamed",
      "userId": "15069929351253987102"
     },
     "user_tz": -120
    },
    "id": "GIVzxz-O-dGL",
    "outputId": "2f9443e9-c96c-4cb9-8645-828879947b5a"
   },
   "outputs": [
    {
     "data": {
      "text/plain": [
       "['6', 2, 3]"
      ]
     },
     "execution_count": 17,
     "metadata": {},
     "output_type": "execute_result"
    }
   ],
   "source": [
    "X[0] = '6'\n",
    "X"
   ]
  },
  {
   "cell_type": "code",
   "execution_count": null,
   "metadata": {
    "colab": {
     "base_uri": "https://localhost:8080/",
     "height": 35
    },
    "executionInfo": {
     "elapsed": 20,
     "status": "ok",
     "timestamp": 1668364334346,
     "user": {
      "displayName": "Nada Mohamed",
      "userId": "15069929351253987102"
     },
     "user_tz": -120
    },
    "id": "c7EgqoP_UDiX",
    "outputId": "2a06fc42-de02-4310-e808-88310d36ac8e"
   },
   "outputs": [
    {
     "data": {
      "application/vnd.google.colaboratory.intrinsic+json": {
       "type": "string"
      },
      "text/plain": [
       "'Nada'"
      ]
     },
     "execution_count": 18,
     "metadata": {},
     "output_type": "execute_result"
    }
   ],
   "source": [
    "# Strings are immutable\n",
    "s = 'Nada'\n",
    "#s[0] = 'A'\n",
    "s"
   ]
  },
  {
   "cell_type": "code",
   "execution_count": null,
   "metadata": {
    "colab": {
     "base_uri": "https://localhost:8080/"
    },
    "executionInfo": {
     "elapsed": 330,
     "status": "ok",
     "timestamp": 1668364342606,
     "user": {
      "displayName": "Nada Mohamed",
      "userId": "15069929351253987102"
     },
     "user_tz": -120
    },
    "id": "VFpk7nfnbE1t",
    "outputId": "e57b943c-4391-41ce-dab5-0b2e37b39ff6"
   },
   "outputs": [
    {
     "name": "stdout",
     "output_type": "stream",
     "text": [
      "['Mur', 'Vee', 'Ur', 'Mars', 'Jupiter', 'Saturn', 'Uranus', 'Neptune']\n"
     ]
    }
   ],
   "source": [
    " #Let's compensate by shortening the names of the first 3 planets.\n",
    "planets[:3] = ['Mur', 'Vee', 'Ur']\n",
    "print(planets)"
   ]
  },
  {
   "cell_type": "code",
   "execution_count": null,
   "metadata": {
    "colab": {
     "base_uri": "https://localhost:8080/"
    },
    "executionInfo": {
     "elapsed": 480,
     "status": "ok",
     "timestamp": 1668364348145,
     "user": {
      "displayName": "Nada Mohamed",
      "userId": "15069929351253987102"
     },
     "user_tz": -120
    },
    "id": "4Oq1P_sm-dGM",
    "outputId": "9f231694-1c84-41f0-b303-16efbb452c43"
   },
   "outputs": [
    {
     "name": "stdout",
     "output_type": "stream",
     "text": [
      "['apple', 'watermelon']\n"
     ]
    }
   ],
   "source": [
    "# Change the second and third value by replacing it with one value:\n",
    "thislist = [\"apple\", \"banana\", \"cherry\"]\n",
    "thislist[1:3] = [\"watermelon\"]\n",
    "print(thislist)"
   ]
  },
  {
   "cell_type": "markdown",
   "metadata": {
    "id": "NyE1ryfx-dGM"
   },
   "source": [
    "#### Some Functions"
   ]
  },
  {
   "cell_type": "code",
   "execution_count": null,
   "metadata": {
    "colab": {
     "base_uri": "https://localhost:8080/"
    },
    "executionInfo": {
     "elapsed": 549,
     "status": "ok",
     "timestamp": 1668364361731,
     "user": {
      "displayName": "Nada Mohamed",
      "userId": "15069929351253987102"
     },
     "user_tz": -120
    },
    "id": "qi27dic6-dGM",
    "outputId": "0e1cbcd1-1f93-4cfe-a315-cc43ab175a38"
   },
   "outputs": [
    {
     "name": "stdout",
     "output_type": "stream",
     "text": [
      "['apple', 'banana', 'watermelon', 'cherry']\n"
     ]
    }
   ],
   "source": [
    "thislist = [\"apple\", \"banana\", \"cherry\"]\n",
    "thislist.insert(2, \"watermelon\")\n",
    "print(thislist)"
   ]
  },
  {
   "cell_type": "code",
   "execution_count": null,
   "metadata": {
    "colab": {
     "base_uri": "https://localhost:8080/"
    },
    "executionInfo": {
     "elapsed": 533,
     "status": "ok",
     "timestamp": 1668364366618,
     "user": {
      "displayName": "Nada Mohamed",
      "userId": "15069929351253987102"
     },
     "user_tz": -120
    },
    "id": "9p0_RkOd-dGM",
    "outputId": "1bfdae9a-ce74-4f8a-83bb-90dbc394d967"
   },
   "outputs": [
    {
     "name": "stdout",
     "output_type": "stream",
     "text": [
      "['apple', 'banana', 'cherry', 'mango', 'pineapple', 'papaya']\n"
     ]
    }
   ],
   "source": [
    "#Extend\n",
    "thislist = [\"apple\", \"banana\", \"cherry\"]\n",
    "tropical = [\"mango\", \"pineapple\", \"papaya\"]\n",
    "thislist.extend(tropical)\n",
    "print(thislist)"
   ]
  },
  {
   "cell_type": "code",
   "execution_count": null,
   "metadata": {
    "id": "ZnSbxVgYtV0i"
   },
   "outputs": [],
   "source": [
    "# append\n",
    "thislist = [\"apple\", \"banana\", \"cherry\"]\n",
    "tropical = [\"mango\", \"pineapple\", \"papaya\"]\n",
    "thislist.append(tropical)\n",
    "print(thislist)"
   ]
  },
  {
   "cell_type": "code",
   "execution_count": null,
   "metadata": {
    "colab": {
     "base_uri": "https://localhost:8080/"
    },
    "executionInfo": {
     "elapsed": 3,
     "status": "ok",
     "timestamp": 1668364369185,
     "user": {
      "displayName": "Nada Mohamed",
      "userId": "15069929351253987102"
     },
     "user_tz": -120
    },
    "id": "-ClB6g3jcAH5",
    "outputId": "c6bacef0-4848-4479-ef56-db29b7cb2854"
   },
   "outputs": [
    {
     "data": {
      "text/plain": [
       "8"
      ]
     },
     "execution_count": 23,
     "metadata": {},
     "output_type": "execute_result"
    }
   ],
   "source": [
    "# How many planets are there?\n",
    "len(planets)"
   ]
  },
  {
   "cell_type": "code",
   "execution_count": null,
   "metadata": {
    "colab": {
     "base_uri": "https://localhost:8080/"
    },
    "executionInfo": {
     "elapsed": 354,
     "status": "ok",
     "timestamp": 1668364373827,
     "user": {
      "displayName": "Nada Mohamed",
      "userId": "15069929351253987102"
     },
     "user_tz": -120
    },
    "id": "YzICi01Wfe5i",
    "outputId": "73f57c9a-ed04-4ae3-b724-58902d256052"
   },
   "outputs": [
    {
     "data": {
      "text/plain": [
       "[1, 5, 2, 4, 3]"
      ]
     },
     "execution_count": 24,
     "metadata": {},
     "output_type": "execute_result"
    }
   ],
   "source": [
    "x = [1,5,2,4,3]\n",
    "sorted(x) ## copy\n",
    "x\n",
    "## x.sort() #not copy\n",
    "#x"
   ]
  },
  {
   "cell_type": "code",
   "execution_count": null,
   "metadata": {
    "colab": {
     "base_uri": "https://localhost:8080/"
    },
    "executionInfo": {
     "elapsed": 463,
     "status": "ok",
     "timestamp": 1668364383739,
     "user": {
      "displayName": "Nada Mohamed",
      "userId": "15069929351253987102"
     },
     "user_tz": -120
    },
    "id": "L28s9y1TcJPb",
    "outputId": "ed7e43f4-9a1c-44c4-ef56-52b7c0cc35f4"
   },
   "outputs": [
    {
     "data": {
      "text/plain": [
       "17"
      ]
     },
     "execution_count": 26,
     "metadata": {},
     "output_type": "execute_result"
    }
   ],
   "source": [
    "primes = [2, 3, 5, 7]\n",
    "sum(primes)"
   ]
  },
  {
   "cell_type": "code",
   "execution_count": null,
   "metadata": {
    "colab": {
     "base_uri": "https://localhost:8080/"
    },
    "executionInfo": {
     "elapsed": 9,
     "status": "ok",
     "timestamp": 1668364386421,
     "user": {
      "displayName": "Nada Mohamed",
      "userId": "15069929351253987102"
     },
     "user_tz": -120
    },
    "id": "gqUcVM6tcJ_N",
    "outputId": "fe185fb9-0c97-42de-f57a-c4c8a3f34e05"
   },
   "outputs": [
    {
     "data": {
      "text/plain": [
       "7"
      ]
     },
     "execution_count": 27,
     "metadata": {},
     "output_type": "execute_result"
    }
   ],
   "source": [
    "max(primes)"
   ]
  },
  {
   "cell_type": "markdown",
   "metadata": {
    "id": "isZDoFss-dGO"
   },
   "source": [
    "#### List methods"
   ]
  },
  {
   "cell_type": "code",
   "execution_count": null,
   "metadata": {
    "id": "GRRJDNnoccWY"
   },
   "outputs": [],
   "source": [
    "#adding an item to the end:\n",
    "planets.append('Pluto')"
   ]
  },
  {
   "cell_type": "code",
   "execution_count": null,
   "metadata": {
    "colab": {
     "base_uri": "https://localhost:8080/",
     "height": 35
    },
    "executionInfo": {
     "elapsed": 27,
     "status": "ok",
     "timestamp": 1668364397392,
     "user": {
      "displayName": "Nada Mohamed",
      "userId": "15069929351253987102"
     },
     "user_tz": -120
    },
    "id": "WNBhRZvMcg7n",
    "outputId": "fb36f2a7-9cc7-453d-870c-66052e4b742c"
   },
   "outputs": [
    {
     "data": {
      "application/vnd.google.colaboratory.intrinsic+json": {
       "type": "string"
      },
      "text/plain": [
       "'Pluto'"
      ]
     },
     "execution_count": 29,
     "metadata": {},
     "output_type": "execute_result"
    }
   ],
   "source": [
    "#removes and returns the last element of a list:\n",
    "planets.pop()"
   ]
  },
  {
   "cell_type": "code",
   "execution_count": null,
   "metadata": {
    "id": "8tDrN2CF-dGQ"
   },
   "outputs": [],
   "source": [
    "#removes and returns the specific  element by index  in a list:\n",
    "\n",
    "#planets.pop(1)"
   ]
  },
  {
   "cell_type": "code",
   "execution_count": null,
   "metadata": {
    "id": "UwD3v2saebRl"
   },
   "outputs": [],
   "source": [
    "#remove specific value\n",
    "planets.remove(\"****\")"
   ]
  },
  {
   "cell_type": "code",
   "execution_count": null,
   "metadata": {
    "id": "ARkd2MZTx1em"
   },
   "outputs": [],
   "source": [
    "planets.reverse()"
   ]
  },
  {
   "cell_type": "code",
   "execution_count": null,
   "metadata": {
    "id": "uDR6SdBBcvDb"
   },
   "outputs": [],
   "source": [
    "#planets.index('Earth')\n"
   ]
  },
  {
   "cell_type": "code",
   "execution_count": null,
   "metadata": {
    "colab": {
     "base_uri": "https://localhost:8080/"
    },
    "executionInfo": {
     "elapsed": 329,
     "status": "ok",
     "timestamp": 1668364464809,
     "user": {
      "displayName": "Nada Mohamed",
      "userId": "15069929351253987102"
     },
     "user_tz": -120
    },
    "id": "NHSo84XMc55v",
    "outputId": "9e0b1ddd-79ef-4106-e3a1-e4036fc7ba27"
   },
   "outputs": [
    {
     "data": {
      "text/plain": [
       "False"
      ]
     },
     "execution_count": 34,
     "metadata": {},
     "output_type": "execute_result"
    }
   ],
   "source": [
    "# Is Earth a planet?\n",
    "\"Earth\" in planets"
   ]
  },
  {
   "cell_type": "code",
   "execution_count": null,
   "metadata": {
    "id": "WBWd-hti-dGR"
   },
   "outputs": [],
   "source": [
    "#copy \n",
    "thislist = [\"apple\", \"banana\", \"cherry\"]\n",
    "mylist = thislist.copy()\n",
    "print(mylist)"
   ]
  },
  {
   "cell_type": "markdown",
   "metadata": {
    "id": "Rzpln2WDaRBK"
   },
   "source": [
    "###  **Tuple ( )**\n",
    "Tuples are almost exactly the same as lists. They differ in just two ways.\n",
    "\n",
    "- 1: The syntax for creating them uses parentheses instead of square brackets.\n",
    "- 2: They cannot be modified (they are immutable)."
   ]
  },
  {
   "cell_type": "code",
   "execution_count": null,
   "metadata": {
    "id": "t72V5ceAdmar"
   },
   "outputs": [],
   "source": [
    "t = (1, 2, 3)\n"
   ]
  },
  {
   "cell_type": "code",
   "execution_count": null,
   "metadata": {
    "id": "MNgtpkjb-dGR"
   },
   "outputs": [],
   "source": [
    "type(t)"
   ]
  },
  {
   "cell_type": "code",
   "execution_count": null,
   "metadata": {
    "id": "CpO9evA4dq8P"
   },
   "outputs": [],
   "source": [
    "t = 1, 2, 3 # equivalent to above\n",
    "type(t)"
   ]
  },
  {
   "cell_type": "markdown",
   "metadata": {
    "id": "tCkfvjhp-dGS"
   },
   "source": [
    "#### tuple With One Item"
   ]
  },
  {
   "cell_type": "code",
   "execution_count": null,
   "metadata": {
    "id": "LsnAY6L0-dGS",
    "outputId": "75460032-df9b-402d-e81e-82f10b04c17e"
   },
   "outputs": [
    {
     "data": {
      "text/plain": [
       "int"
      ]
     },
     "execution_count": 78,
     "metadata": {},
     "output_type": "execute_result"
    }
   ],
   "source": [
    "thistuple = (1)\n",
    "type(thistuple)"
   ]
  },
  {
   "cell_type": "code",
   "execution_count": null,
   "metadata": {
    "id": "vqGqWoLa-dGS"
   },
   "outputs": [],
   "source": [
    "thistuple = (\"apple\",)\n",
    "type(thistuple)"
   ]
  },
  {
   "cell_type": "code",
   "execution_count": null,
   "metadata": {
    "id": "_6mKq463-dGS",
    "outputId": "871995f4-c3aa-4546-de47-d2b9150258fb"
   },
   "outputs": [
    {
     "data": {
      "text/plain": [
       "tuple"
      ]
     },
     "execution_count": 81,
     "metadata": {},
     "output_type": "execute_result"
    }
   ],
   "source": [
    "a= ((1,2),(3,4))\n",
    "type(a)"
   ]
  },
  {
   "cell_type": "code",
   "execution_count": null,
   "metadata": {
    "id": "EC4uqYk5-dGT"
   },
   "outputs": [],
   "source": [
    "b = ([1,2],[3,4])"
   ]
  },
  {
   "cell_type": "markdown",
   "metadata": {
    "id": "ekUVAP8E-dGT"
   },
   "source": [
    "#### immutable"
   ]
  },
  {
   "cell_type": "code",
   "execution_count": null,
   "metadata": {
    "id": "WexIiwYmdt_8"
   },
   "outputs": [],
   "source": [
    "t = (1, 2, 3)\n",
    "t[0] = 100\n"
   ]
  },
  {
   "cell_type": "code",
   "execution_count": null,
   "metadata": {
    "id": "V7pmPeajd2FO"
   },
   "outputs": [],
   "source": [
    "t.append(1)"
   ]
  },
  {
   "cell_type": "markdown",
   "metadata": {
    "id": "5bG168iJ-dGT"
   },
   "source": [
    "#### I Should add items! "
   ]
  },
  {
   "cell_type": "code",
   "execution_count": null,
   "metadata": {
    "id": "5-ZLQikg-dGU",
    "outputId": "ce9465b3-7eb0-46cd-838a-522272abc8f6"
   },
   "outputs": [
    {
     "data": {
      "text/plain": [
       "('apple', 'banana', 'cherry', 'orange')"
      ]
     },
     "execution_count": 91,
     "metadata": {},
     "output_type": "execute_result"
    }
   ],
   "source": [
    "## 1  Convert into a list\n",
    "thistuple = (\"apple\", \"banana\", \"cherry\")\n",
    "y = list(thistuple)\n",
    "y.append(\"orange\")\n",
    "thistuple = tuple(y)\n",
    "thistuple"
   ]
  },
  {
   "cell_type": "code",
   "execution_count": null,
   "metadata": {
    "id": "SoUfPxCg-dGU"
   },
   "outputs": [],
   "source": [
    "# 2- Add tuple to a tuple\n",
    "thistuple = (\"apple\", \"banana\", \"cherry\")\n",
    "y = (\"orange\",)\n",
    "thistuple += y\n",
    "\n",
    "print(thistuple)"
   ]
  },
  {
   "cell_type": "markdown",
   "metadata": {
    "id": "XvbTruKj-dGU"
   },
   "source": [
    "#### remove items"
   ]
  },
  {
   "cell_type": "code",
   "execution_count": null,
   "metadata": {
    "id": "ljTSUrqE-dGU"
   },
   "outputs": [],
   "source": [
    "# convert to list at first\n",
    "thistuple = (\"apple\", \"banana\", \"cherry\")\n",
    "y = list(thistuple)\n",
    "y.remove(\"apple\")\n",
    "thistuple = tuple(y)"
   ]
  },
  {
   "cell_type": "code",
   "execution_count": null,
   "metadata": {
    "id": "dhcW4O6_-dGU"
   },
   "outputs": [],
   "source": [
    "# delete tuple completely\n",
    "thistuple = (\"apple\", \"banana\", \"cherry\")\n",
    "del thistuple\n",
    "print(thistuple) #this will raise an error because the tuple no longer exists"
   ]
  },
  {
   "cell_type": "markdown",
   "metadata": {
    "id": "54_e64fE-dGV"
   },
   "source": [
    "#### indexing"
   ]
  },
  {
   "cell_type": "code",
   "execution_count": null,
   "metadata": {
    "id": "2QxN-uUyd_kb"
   },
   "outputs": [],
   "source": [
    "t[1]"
   ]
  },
  {
   "cell_type": "markdown",
   "metadata": {
    "id": "8P9_cT2V-dGV"
   },
   "source": [
    "#### slicing"
   ]
  },
  {
   "cell_type": "code",
   "execution_count": null,
   "metadata": {
    "id": "Xj_PPer7-dGV"
   },
   "outputs": [],
   "source": [
    "t[:2]"
   ]
  },
  {
   "cell_type": "markdown",
   "metadata": {
    "id": "mnEWqXzp-dGW"
   },
   "source": [
    "#### unpack"
   ]
  },
  {
   "cell_type": "markdown",
   "metadata": {
    "id": "8bsppdx5gHNt"
   },
   "source": [
    "dimensions = (52, 40, 100)\n",
    "length, width, height = dimensions\n",
    "print(f\"The dimensions are {length} x {width} x {height}\")"
   ]
  }
 ],
 "metadata": {
  "colab": {
   "provenance": [
    {
     "file_id": "1SuvXaLPGHsiCm9SMbMb_ljGrATk3MM0T",
     "timestamp": 1668372783097
    }
   ]
  },
  "kernelspec": {
   "display_name": "Python 3 (ipykernel)",
   "language": "python",
   "name": "python3"
  },
  "language_info": {
   "codemirror_mode": {
    "name": "ipython",
    "version": 3
   },
   "file_extension": ".py",
   "mimetype": "text/x-python",
   "name": "python",
   "nbconvert_exporter": "python",
   "pygments_lexer": "ipython3",
   "version": "3.9.7"
  }
 },
 "nbformat": 4,
 "nbformat_minor": 1
}
