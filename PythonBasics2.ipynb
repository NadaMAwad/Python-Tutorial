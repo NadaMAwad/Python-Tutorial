{
 "cells": [
  {
   "cell_type": "markdown",
   "metadata": {
    "id": "1-uCEJPA2Ta6",
    "slideshow": {
     "slide_type": "-"
    }
   },
   "source": [
    "## **Recap ^_^**\n",
    "- Comments: \n",
    "  - oneline #\n",
    "  - multiline '''   ''' or \"\"\"  \"\"\"\n",
    "- Operators: \n",
    "  - / float division\n",
    "  - // floor or integer division\n",
    "  - ** Exponentiation\n",
    "- Print:\n",
    "  - print() --> by default print end with new line.\n",
    "  - print('N', end = ' ') --> print in one line & separate by space.\n",
    "  - print ('A' +'B') --> AB\n",
    "  - print ('A' ,'B') --> A B\n",
    "- Variables: \n",
    "  - No need to define data type.\n",
    "  - Can declare many var in one line --> a,b,z = 1,2,3\n",
    "  - Can assign one value to many var --> a,b,z = 1\n",
    "  - Must cast user input to right data type because input() always return srting.\n",
    "- String: \n",
    "  - ' ' or \" \" \n",
    "  - order --> can access chars in string by index\n",
    "  - immutable (not changed) --> a = 'data' ..  a[0] ='s' NOT ALLOWED.\n",
    "  - index has 2 ways: \n",
    "    - left to right 0, 1, 2 ... etc.\n",
    "    - right to left -1, -2, -3 .. etc.\n",
    "  - Many methods & functions \n",
    "    - split, strip, find, index, count, len() .. etc.\n",
    "  - F-string\n",
    "    - Print(f\"Hello, {Name}\")\n",
    " - Data Structures: \n",
    "    - List [ ]\n",
    "      - mutable\n",
    "      - order\n",
    "      - allow duplicate\n",
    "      - we can define list of lists [[],[]].\n",
    "      - also list can have many diff data types [1,'a',3.3]\n",
    "      - append, pop, clear, .. etc\n",
    "    - Tuple ( )\n",
    "      - like list but immutable.\n",
    "  \n",
    "\n"
   ]
  },
  {
   "cell_type": "markdown",
   "metadata": {
    "id": "tX99ufLM765p"
   },
   "source": [
    "## **Data Structure**"
   ]
  },
  {
   "cell_type": "markdown",
   "metadata": {
    "id": "S67Mnm10aUCb"
   },
   "source": [
    "### **Set { }**\n",
    "- mutable\n",
    "- unorderd\n",
    "-unique elements."
   ]
  },
  {
   "cell_type": "code",
   "execution_count": null,
   "metadata": {
    "id": "uBqkXsXykEA0"
   },
   "outputs": [],
   "source": [
    "# define a set\n",
    "fruit = {\"apple\", \"orange\", \"grapefruit\", \"apple\",\"apple\", \"banana\"} "
   ]
  },
  {
   "cell_type": "code",
   "execution_count": null,
   "metadata": {
    "colab": {
     "base_uri": "https://localhost:8080/"
    },
    "id": "zav2pnyOkEGX",
    "outputId": "d5553a08-6e0c-40d1-d85c-fbfb09a0b939"
   },
   "outputs": [
    {
     "data": {
      "text/plain": [
       "{'apple', 'banana', 'grapefruit', 'orange'}"
      ]
     },
     "execution_count": 2,
     "metadata": {},
     "output_type": "execute_result"
    }
   ],
   "source": [
    "# unique\n",
    "# sorted\n",
    "print(fruit)"
   ]
  },
  {
   "cell_type": "code",
   "execution_count": 81,
   "metadata": {
    "id": "xUA2zz3g9WTt"
   },
   "outputs": [
    {
     "ename": "NameError",
     "evalue": "name 'fruit' is not defined",
     "output_type": "error",
     "traceback": [
      "\u001b[1;31m---------------------------------------------------------------------------\u001b[0m",
      "\u001b[1;31mNameError\u001b[0m                                 Traceback (most recent call last)",
      "\u001b[1;32m~\\AppData\\Local\\Temp/ipykernel_12040/4113639152.py\u001b[0m in \u001b[0;36m<module>\u001b[1;34m\u001b[0m\n\u001b[0;32m      1\u001b[0m \u001b[1;31m# unorderd\u001b[0m\u001b[1;33m\u001b[0m\u001b[1;33m\u001b[0m\u001b[0m\n\u001b[1;32m----> 2\u001b[1;33m \u001b[0mfruit\u001b[0m\u001b[1;33m[\u001b[0m\u001b[1;36m1\u001b[0m\u001b[1;33m]\u001b[0m\u001b[1;33m\u001b[0m\u001b[1;33m\u001b[0m\u001b[0m\n\u001b[0m",
      "\u001b[1;31mNameError\u001b[0m: name 'fruit' is not defined"
     ]
    }
   ],
   "source": [
    "# unorderd\n",
    "fruit[1]"
   ]
  },
  {
   "cell_type": "code",
   "execution_count": null,
   "metadata": {
    "colab": {
     "base_uri": "https://localhost:8080/"
    },
    "id": "35XWtmLdlErw",
    "outputId": "1d3ee6b7-3c47-4d8a-c594-1c46de0f1f9b"
   },
   "outputs": [
    {
     "name": "stdout",
     "output_type": "stream",
     "text": [
      "False\n"
     ]
    }
   ],
   "source": [
    "# check for element\n",
    "print(\"watermelon\" in fruit)"
   ]
  },
  {
   "cell_type": "code",
   "execution_count": null,
   "metadata": {
    "colab": {
     "base_uri": "https://localhost:8080/"
    },
    "id": "sskXmVZtlKBS",
    "outputId": "94481be9-bc01-496e-aaac-93141a4d63a6"
   },
   "outputs": [
    {
     "name": "stdout",
     "output_type": "stream",
     "text": [
      "{'orange', 'banana', 'grapefruit', 'watermelon', 'apple'}\n"
     ]
    }
   ],
   "source": [
    "# add an element\n",
    "fruit.add(\"watermelon\")\n",
    "print(fruit)"
   ]
  },
  {
   "cell_type": "code",
   "execution_count": null,
   "metadata": {
    "colab": {
     "base_uri": "https://localhost:8080/"
    },
    "id": "MOvhSj1l9WTu",
    "outputId": "4be95292-7bfd-470c-b52c-17420b71840a"
   },
   "outputs": [
    {
     "name": "stdout",
     "output_type": "stream",
     "text": [
      "{'banana', 'cherry', 'mango', 'pineapple', 'papaya', 'apple'}\n"
     ]
    }
   ],
   "source": [
    "## add items (set, list, tuple)\n",
    "thisset = {\"apple\", \"banana\", \"cherry\"}\n",
    "tropical = {\"pineapple\", \"mango\", \"papaya\"}\n",
    "\n",
    "thisset.update(tropical)\n",
    "\n",
    "print(thisset)"
   ]
  },
  {
   "cell_type": "code",
   "execution_count": 19,
   "metadata": {
    "colab": {
     "base_uri": "https://localhost:8080/"
    },
    "id": "RkB1jknM9WTu",
    "outputId": "94a9cdf0-9238-47e2-fadf-4c1d39de2e20"
   },
   "outputs": [
    {
     "ename": "KeyError",
     "evalue": "'watermelon'",
     "output_type": "error",
     "traceback": [
      "\u001b[1;31m---------------------------------------------------------------------------\u001b[0m",
      "\u001b[1;31mKeyError\u001b[0m                                  Traceback (most recent call last)",
      "\u001b[1;32m~\\AppData\\Local\\Temp/ipykernel_12040/27447955.py\u001b[0m in \u001b[0;36m<module>\u001b[1;34m\u001b[0m\n\u001b[0;32m      3\u001b[0m \u001b[1;33m\u001b[0m\u001b[0m\n\u001b[0;32m      4\u001b[0m \u001b[1;31m#thisset.remove(\"banana\")\u001b[0m\u001b[1;33m\u001b[0m\u001b[1;33m\u001b[0m\u001b[0m\n\u001b[1;32m----> 5\u001b[1;33m \u001b[0mthisset\u001b[0m\u001b[1;33m.\u001b[0m\u001b[0mremove\u001b[0m\u001b[1;33m(\u001b[0m\u001b[1;34m\"watermelon\"\u001b[0m\u001b[1;33m)\u001b[0m\u001b[1;33m\u001b[0m\u001b[1;33m\u001b[0m\u001b[0m\n\u001b[0m\u001b[0;32m      6\u001b[0m \u001b[1;33m\u001b[0m\u001b[0m\n\u001b[0;32m      7\u001b[0m \u001b[0mprint\u001b[0m\u001b[1;33m(\u001b[0m\u001b[0mthisset\u001b[0m\u001b[1;33m)\u001b[0m\u001b[1;33m\u001b[0m\u001b[1;33m\u001b[0m\u001b[0m\n",
      "\u001b[1;31mKeyError\u001b[0m: 'watermelon'"
     ]
    }
   ],
   "source": [
    "# remove item 1st way\n",
    "thisset = {\"apple\", \"banana\", \"cherry\"}\n",
    "\n",
    "#thisset.remove(\"banana\")\n",
    "thisset.remove(\"watermelon\")\n",
    "\n",
    "print(thisset)"
   ]
  },
  {
   "cell_type": "markdown",
   "metadata": {
    "id": "8wzjPwKO9WTu"
   },
   "source": [
    "Note: If the item to remove does not exist, remove() will raise an error."
   ]
  },
  {
   "cell_type": "code",
   "execution_count": 21,
   "metadata": {
    "id": "TfDeOm0c9WTu"
   },
   "outputs": [
    {
     "name": "stdout",
     "output_type": "stream",
     "text": [
      "{'banana', 'apple', 'cherry'}\n"
     ]
    }
   ],
   "source": [
    "# remove item 2nd way\n",
    "thisset = {\"apple\", \"banana\", \"cherry\"}\n",
    "\n",
    "#thisset.discard(\"banana\")\n",
    "thisset.discard(\"b\")\n",
    "\n",
    "#thisset.remove(\"watermelon\")\n",
    "print(thisset)"
   ]
  },
  {
   "cell_type": "markdown",
   "metadata": {
    "id": "0W8hwwqo9WTu"
   },
   "source": [
    "Note: If the item to remove does not exist, discard() will NOT raise an error."
   ]
  },
  {
   "cell_type": "code",
   "execution_count": 83,
   "metadata": {
    "colab": {
     "base_uri": "https://localhost:8080/"
    },
    "id": "csW53gfAlLzU",
    "outputId": "5dc1e2b6-69e4-4e11-9413-bd14a14f5c23"
   },
   "outputs": [
    {
     "name": "stdout",
     "output_type": "stream",
     "text": [
      "{'banana', 'apple', 'cherry'}\n",
      "banana\n",
      "{'apple', 'cherry'}\n"
     ]
    }
   ],
   "source": [
    " # remove a random element\n",
    "thisset = {\"apple\", \"banana\", \"cherry\"}\n",
    "print(thisset)\n",
    "print(thisset.pop()) \n",
    "print(thisset)"
   ]
  },
  {
   "cell_type": "markdown",
   "metadata": {
    "id": "lJTu2YTY9WTv"
   },
   "source": [
    "Note: Sets are unordered, so when using the pop() method, you do not know which item that gets removed."
   ]
  },
  {
   "cell_type": "code",
   "execution_count": null,
   "metadata": {
    "id": "OjzU4FZW9WTv",
    "outputId": "a4f267cf-a679-41ae-f37d-3de4ed7a9513"
   },
   "outputs": [
    {
     "name": "stdout",
     "output_type": "stream",
     "text": [
      "set()\n"
     ]
    }
   ],
   "source": [
    "# clear set (make it empty)\n",
    "thisset = {\"apple\", \"banana\", \"cherry\"}\n",
    "\n",
    "thisset.clear()\n",
    "\n",
    "print(thisset)"
   ]
  },
  {
   "cell_type": "code",
   "execution_count": 23,
   "metadata": {
    "id": "jqWgYWHj9WTv"
   },
   "outputs": [
    {
     "ename": "NameError",
     "evalue": "name 'thisset' is not defined",
     "output_type": "error",
     "traceback": [
      "\u001b[1;31m---------------------------------------------------------------------------\u001b[0m",
      "\u001b[1;31mNameError\u001b[0m                                 Traceback (most recent call last)",
      "\u001b[1;32m~\\AppData\\Local\\Temp/ipykernel_12040/3762176086.py\u001b[0m in \u001b[0;36m<module>\u001b[1;34m\u001b[0m\n\u001b[0;32m      4\u001b[0m \u001b[1;32mdel\u001b[0m \u001b[0mthisset\u001b[0m\u001b[1;33m\u001b[0m\u001b[1;33m\u001b[0m\u001b[0m\n\u001b[0;32m      5\u001b[0m \u001b[1;33m\u001b[0m\u001b[0m\n\u001b[1;32m----> 6\u001b[1;33m \u001b[0mprint\u001b[0m\u001b[1;33m(\u001b[0m\u001b[0mthisset\u001b[0m\u001b[1;33m)\u001b[0m\u001b[1;33m\u001b[0m\u001b[1;33m\u001b[0m\u001b[0m\n\u001b[0m",
      "\u001b[1;31mNameError\u001b[0m: name 'thisset' is not defined"
     ]
    }
   ],
   "source": [
    "# delete set completely\n",
    "thisset = {\"apple\", \"banana\", \"cherry\"}\n",
    "\n",
    "del thisset\n",
    "\n",
    "print(thisset)"
   ]
  },
  {
   "cell_type": "code",
   "execution_count": 24,
   "metadata": {
    "id": "ZhbKg4OTkEW3"
   },
   "outputs": [
    {
     "ename": "NameError",
     "evalue": "name 'fruit' is not defined",
     "output_type": "error",
     "traceback": [
      "\u001b[1;31m---------------------------------------------------------------------------\u001b[0m",
      "\u001b[1;31mNameError\u001b[0m                                 Traceback (most recent call last)",
      "\u001b[1;32m~\\AppData\\Local\\Temp/ipykernel_12040/4226765853.py\u001b[0m in \u001b[0;36m<module>\u001b[1;34m\u001b[0m\n\u001b[0;32m      1\u001b[0m \u001b[1;31m#length\u001b[0m\u001b[1;33m\u001b[0m\u001b[1;33m\u001b[0m\u001b[0m\n\u001b[1;32m----> 2\u001b[1;33m \u001b[0mprint\u001b[0m\u001b[1;33m(\u001b[0m\u001b[0mlen\u001b[0m\u001b[1;33m(\u001b[0m\u001b[0mfruit\u001b[0m\u001b[1;33m)\u001b[0m\u001b[1;33m)\u001b[0m\u001b[1;33m\u001b[0m\u001b[1;33m\u001b[0m\u001b[0m\n\u001b[0m",
      "\u001b[1;31mNameError\u001b[0m: name 'fruit' is not defined"
     ]
    }
   ],
   "source": [
    "#length\n",
    "print(len(fruit))"
   ]
  },
  {
   "cell_type": "markdown",
   "metadata": {
    "id": "S8yRL-L09WTw"
   },
   "source": [
    "[For more function & amazing information click here](https://www.w3schools.com/python/python_sets_join.asp)"
   ]
  },
  {
   "cell_type": "markdown",
   "metadata": {
    "id": "XeQlbI1zPgSy"
   },
   "source": [
    "### **Dictionary**\n",
    "- A mutable data type.\n",
    "- Stores mappings of unique **keys** to **values**.\n",
    "- Duplicates Not Allowed"
   ]
  },
  {
   "cell_type": "code",
   "execution_count": 25,
   "metadata": {
    "id": "EgMvT5SvBLNK"
   },
   "outputs": [],
   "source": [
    "elements = {\"hydrogen\": 1, \"helium\": 2, \"carbon\": 6}"
   ]
  },
  {
   "cell_type": "markdown",
   "metadata": {
    "id": "0PR_WEZkBY1P"
   },
   "source": [
    "Dictionaries can have keys of any immutable type:\n",
    "-  like integers.\n",
    "-  tuples.\n",
    "-  strings.\n",
    "\n",
    "It's not even necessary for every key to have the same type!"
   ]
  },
  {
   "cell_type": "code",
   "execution_count": null,
   "metadata": {
    "id": "cjYZud6uBX6l"
   },
   "outputs": [],
   "source": [
    "Ex3 = {\n",
    "        1:1,\n",
    "       'a':2,\n",
    "       (1,2):5\n",
    "       }"
   ]
  },
  {
   "cell_type": "markdown",
   "metadata": {
    "id": "fX5hXwvB9WTw"
   },
   "source": [
    "#### Access dict"
   ]
  },
  {
   "cell_type": "code",
   "execution_count": null,
   "metadata": {
    "colab": {
     "base_uri": "https://localhost:8080/"
    },
    "id": "Efbz1NImCn-O",
    "outputId": "1e1cdae1-332e-477b-814d-d0f344f5bdff"
   },
   "outputs": [
    {
     "name": "stdout",
     "output_type": "stream",
     "text": [
      "2\n",
      "None\n",
      "There's no such element!\n"
     ]
    }
   ],
   "source": [
    "elements = {\"hydrogen\": 1, \"helium\": 2, \"carbon\": 6}\n",
    "# use get\n",
    "print(elements.get('helium'))\n",
    "\n",
    "# Not found?\n",
    "print(elements.get('h'))\n",
    "\n",
    "# message\n",
    "print(elements.get('kryptonite', 'There\\'s no such element!'))\n"
   ]
  },
  {
   "cell_type": "code",
   "execution_count": 26,
   "metadata": {
    "id": "iIH5AmaA9WTw",
    "outputId": "254c5c72-187b-4f61-be28-1799f986074c"
   },
   "outputs": [
    {
     "name": "stdout",
     "output_type": "stream",
     "text": [
      "2\n"
     ]
    },
    {
     "ename": "KeyError",
     "evalue": "'h'",
     "output_type": "error",
     "traceback": [
      "\u001b[1;31m---------------------------------------------------------------------------\u001b[0m",
      "\u001b[1;31mKeyError\u001b[0m                                  Traceback (most recent call last)",
      "\u001b[1;32m~\\AppData\\Local\\Temp/ipykernel_12040/187951178.py\u001b[0m in \u001b[0;36m<module>\u001b[1;34m\u001b[0m\n\u001b[0;32m      5\u001b[0m \u001b[1;33m\u001b[0m\u001b[0m\n\u001b[0;32m      6\u001b[0m \u001b[1;31m# Not found?\u001b[0m\u001b[1;33m\u001b[0m\u001b[1;33m\u001b[0m\u001b[0m\n\u001b[1;32m----> 7\u001b[1;33m \u001b[0mprint\u001b[0m\u001b[1;33m(\u001b[0m\u001b[0melements\u001b[0m\u001b[1;33m[\u001b[0m\u001b[1;34m'h'\u001b[0m\u001b[1;33m]\u001b[0m\u001b[1;33m)\u001b[0m\u001b[1;33m\u001b[0m\u001b[1;33m\u001b[0m\u001b[0m\n\u001b[0m",
      "\u001b[1;31mKeyError\u001b[0m: 'h'"
     ]
    }
   ],
   "source": [
    "elements = {\"hydrogen\": 1, \"helium\": 2, \"carbon\": 6}\n",
    "\n",
    "# use key\n",
    "print(elements['helium'])\n",
    "\n",
    "# Not found?\n",
    "print(elements['h'])"
   ]
  },
  {
   "cell_type": "code",
   "execution_count": null,
   "metadata": {
    "id": "T38lEq8zCvWn",
    "outputId": "1145cf7b-f2a9-4a30-9d24-00542027bb6c"
   },
   "outputs": [
    {
     "data": {
      "text/plain": [
       "True"
      ]
     },
     "execution_count": 102,
     "metadata": {},
     "output_type": "execute_result"
    }
   ],
   "source": [
    "elements = {\"hydrogen\": 1, \"helium\": 2, \"carbon\": 6}\n",
    "\n",
    "# Check \n",
    "\"carbon\" in elements"
   ]
  },
  {
   "cell_type": "markdown",
   "metadata": {
    "id": "0f-xXIb69WTx"
   },
   "source": [
    "#### dict of lists or dicts "
   ]
  },
  {
   "cell_type": "code",
   "execution_count": 28,
   "metadata": {
    "id": "Qm4Pl-9bDMK4"
   },
   "outputs": [],
   "source": [
    "animals = {'dogs': ['1', '2', '3'], 'cats': [1,2], 'rabbits': [1, 2, 3], 'fish': [0.3, 0.5, 0.8, 0.3, 1]}"
   ]
  },
  {
   "cell_type": "code",
   "execution_count": 31,
   "metadata": {
    "colab": {
     "base_uri": "https://localhost:8080/"
    },
    "id": "PwgDe466DNGm",
    "outputId": "a3d5839f-4e9c-4b0e-8a44-6f4a58b972c9"
   },
   "outputs": [
    {
     "data": {
      "text/plain": [
       "2"
      ]
     },
     "execution_count": 31,
     "metadata": {},
     "output_type": "execute_result"
    }
   ],
   "source": [
    "#  how access item?\n",
    "animals['rabbits'][1]"
   ]
  },
  {
   "cell_type": "code",
   "execution_count": 34,
   "metadata": {
    "id": "2i9yhHk_9WTx"
   },
   "outputs": [],
   "source": [
    "elements = {\"hydrogen\": {\"number\": 1,\n",
    "                         \"weight\": 1.00794,\n",
    "                         \"symbol\": \"H\"},\n",
    "              \"helium\": {\"number\": 2,\n",
    "                         \"weight\": 4.002602,\n",
    "                         \"symbol\": \"He\"}}"
   ]
  },
  {
   "cell_type": "code",
   "execution_count": 37,
   "metadata": {
    "id": "y5VKlNbV9WTy",
    "outputId": "f668f976-b8a8-400b-9a74-be1f0caca680"
   },
   "outputs": [
    {
     "data": {
      "text/plain": [
       "2"
      ]
     },
     "execution_count": 37,
     "metadata": {},
     "output_type": "execute_result"
    }
   ],
   "source": [
    "# question ^^  print number of helium\n",
    "elements[\"helium\"][\"number\"]"
   ]
  },
  {
   "cell_type": "markdown",
   "metadata": {
    "id": "arBxytit9WTy"
   },
   "source": [
    "#### Dict Remove duplicates"
   ]
  },
  {
   "cell_type": "code",
   "execution_count": 39,
   "metadata": {
    "id": "3HxlHEdh9WTy",
    "outputId": "647c9e3d-990e-47c6-bd7e-01e439c7d993"
   },
   "outputs": [
    {
     "name": "stdout",
     "output_type": "stream",
     "text": [
      "{'brand': 'Ford', 'model': 'Mustang', 'year': 2020}\n"
     ]
    }
   ],
   "source": [
    "thisdict = {\n",
    "  \"brand\": \"Ford\",\n",
    "  \"model\": \"Mustang\",\n",
    "  \"year\": 1964,\n",
    "  \"year\": 2020\n",
    "}\n",
    "print(thisdict)"
   ]
  },
  {
   "cell_type": "markdown",
   "metadata": {},
   "source": [
    "# access key by value ?"
   ]
  },
  {
   "cell_type": "code",
   "execution_count": 44,
   "metadata": {},
   "outputs": [
    {
     "name": "stdout",
     "output_type": "stream",
     "text": [
      "brand\n"
     ]
    }
   ],
   "source": [
    "for keys in thisdict.keys():\n",
    "    if thisdict[keys]== 'Ford':\n",
    "        print(keys)\n",
    "        "
   ]
  },
  {
   "cell_type": "markdown",
   "metadata": {
    "id": "5r2FkN4n9WTy"
   },
   "source": [
    "#### Keys and values"
   ]
  },
  {
   "cell_type": "code",
   "execution_count": null,
   "metadata": {
    "colab": {
     "base_uri": "https://localhost:8080/"
    },
    "id": "SuWtCjjg9WTy",
    "outputId": "4e9a7144-5f83-4fa9-81e3-05192165563b"
   },
   "outputs": [
    {
     "data": {
      "text/plain": [
       "dict_keys(['brand', 'model', 'year'])"
      ]
     },
     "execution_count": 18,
     "metadata": {},
     "output_type": "execute_result"
    }
   ],
   "source": [
    "# Show keys\n",
    "thisdict = {'brand': 'Ford', 'model': 'Mustang', 'year': 2020}\n",
    "thisdict.keys()"
   ]
  },
  {
   "cell_type": "code",
   "execution_count": null,
   "metadata": {
    "id": "Vox2jpLH9WTy",
    "outputId": "3dcae041-fd8b-4680-a23a-6c36a1377ef2"
   },
   "outputs": [
    {
     "data": {
      "text/plain": [
       "dict_values(['Ford', 'Mustang', 2020])"
      ]
     },
     "execution_count": 119,
     "metadata": {},
     "output_type": "execute_result"
    }
   ],
   "source": [
    "# Show valus\n",
    "thisdict = {'brand': 'Ford', 'model': 'Mustang', 'year': 2020}\n",
    "\n",
    "thisdict.values()"
   ]
  },
  {
   "cell_type": "code",
   "execution_count": 46,
   "metadata": {
    "colab": {
     "base_uri": "https://localhost:8080/"
    },
    "id": "GOgsWa7hElK1",
    "outputId": "c6114c0a-fd0d-42e6-f072-9b12e7ee63d5"
   },
   "outputs": [
    {
     "name": "stdout",
     "output_type": "stream",
     "text": [
      "{'brand': 'Ford', 'model': 'Mustang', 'year': 2020, 'color': 'white'}\n"
     ]
    }
   ],
   "source": [
    "# add value \n",
    "\n",
    "thisdict = {'brand': 'Ford', 'model': 'Mustang', 'year': 2020}\n",
    "\n",
    "thisdict['color'] = \"white\"\n",
    "\n",
    "print(thisdict)\n"
   ]
  },
  {
   "cell_type": "code",
   "execution_count": 48,
   "metadata": {
    "colab": {
     "base_uri": "https://localhost:8080/"
    },
    "id": "V21YBwz-FW9_",
    "outputId": "09a47039-a404-4d50-85ed-d62550ae3a5b"
   },
   "outputs": [
    {
     "name": "stdout",
     "output_type": "stream",
     "text": [
      "{'brand': 'Ford', 'model': 'Mustang', 'year': 2022}\n"
     ]
    }
   ],
   "source": [
    "# update value \n",
    "\n",
    "thisdict = {'brand': 'Ford', 'model': 'Mustang', 'year': 2020}\n",
    "\n",
    "thisdict[\"year\"] = 2022\n",
    "print(thisdict)\n"
   ]
  },
  {
   "cell_type": "code",
   "execution_count": null,
   "metadata": {
    "colab": {
     "base_uri": "https://localhost:8080/"
    },
    "id": "UfVCf7kCFnmi",
    "outputId": "e0a7a977-1c4a-4176-c306-e6c4cc1ca98e"
   },
   "outputs": [
    {
     "name": "stdout",
     "output_type": "stream",
     "text": [
      "{'brand': 'Ford', 'model': 'Mustang', 'year': 2020, 'color': 'red'}\n",
      "{'brand': 'Ford', 'model': 'Mustang', 'year': 2020, 'color': 'blue'}\n"
     ]
    }
   ],
   "source": [
    "# update (update or add)\n",
    "\n",
    "thisdict = {'brand': 'Ford', 'model': 'Mustang', 'year': 2020}\n",
    "\n",
    "thisdict.update({\"color\": \"red\"})\n",
    "print(thisdict)\n",
    "\n",
    "\n",
    "thisdict.update({\"color\": \"blue\"})\n",
    "print(thisdict)\n"
   ]
  },
  {
   "cell_type": "code",
   "execution_count": 49,
   "metadata": {
    "id": "1MqgUUPK9WTz",
    "outputId": "68554f57-f6fa-4e11-a869-fad517842d42"
   },
   "outputs": [
    {
     "name": "stdout",
     "output_type": "stream",
     "text": [
      "dict_values(['Ford', 'Mustang', 1964])\n",
      "dict_values(['Ford', 'Mustang', 1964, 'white'])\n"
     ]
    }
   ],
   "source": [
    "#### add new item and check keys\n",
    "\n",
    "car = {\n",
    "\"brand\": \"Ford\",\n",
    "\"model\": \"Mustang\",\n",
    "\"year\": 1964\n",
    "}\n",
    "\n",
    "x = car.values()\n",
    "print(x) #before the change\n",
    "\n",
    "car[\"color\"] = \"white\"\n",
    "print(x) #after the change\n"
   ]
  },
  {
   "cell_type": "code",
   "execution_count": 51,
   "metadata": {},
   "outputs": [
    {
     "name": "stdout",
     "output_type": "stream",
     "text": [
      "y [1, 2, 3]\n",
      "x [2, 2, 3]\n",
      "y [2, 2, 3]\n"
     ]
    }
   ],
   "source": [
    "x = [1,2,3]\n",
    "y = x \n",
    "print('y',y)\n",
    "\n",
    "x[0]= 2\n",
    "\n",
    "print('x',x)\n",
    "print('y',y)"
   ]
  },
  {
   "cell_type": "code",
   "execution_count": null,
   "metadata": {
    "id": "xpjuLO8_9WT0",
    "outputId": "697a54d6-e449-46ce-a962-6161215793a0"
   },
   "outputs": [
    {
     "name": "stdout",
     "output_type": "stream",
     "text": [
      "{'brand': 'Ford', 'year': 1964}\n"
     ]
    }
   ],
   "source": [
    "## remove  specific item\n",
    "thisdict = {\n",
    "  \"brand\": \"Ford\",\n",
    "  \"model\": \"Mustang\",\n",
    "  \"year\": 1964\n",
    "}\n",
    "thisdict.pop(\"model\")\n",
    "print(thisdict)"
   ]
  },
  {
   "cell_type": "code",
   "execution_count": 60,
   "metadata": {
    "colab": {
     "base_uri": "https://localhost:8080/"
    },
    "id": "oH14ImUE9WT0",
    "outputId": "11a41a72-4a32-4073-a00e-4f5463fc7f02"
   },
   "outputs": [
    {
     "name": "stdout",
     "output_type": "stream",
     "text": [
      "{'brand': 'Ford', 'model': 'Mustang'}\n"
     ]
    }
   ],
   "source": [
    "# remove last or random item\n",
    "thisdict = {\n",
    "  \"brand\": \"Ford\",\n",
    "  \"model\": \"Mustang\",\n",
    "  \"year\": None\n",
    "}\n",
    "thisdict.popitem()\n",
    "print(thisdict)"
   ]
  },
  {
   "cell_type": "code",
   "execution_count": null,
   "metadata": {
    "colab": {
     "base_uri": "https://localhost:8080/"
    },
    "id": "AGL-q1mD9WT0",
    "outputId": "a1021f97-e4b7-4370-9bda-13040803b801"
   },
   "outputs": [
    {
     "name": "stdout",
     "output_type": "stream",
     "text": [
      "{'brand': 'Ford', 'year': 1964}\n"
     ]
    }
   ],
   "source": [
    "# del removes the item with the specified key\n",
    "\n",
    "thisdict = {\n",
    "  \"brand\": \"Ford\",\n",
    "  \"model\": \"Mustang\",\n",
    "  \"year\": 1964\n",
    "}\n",
    "del thisdict[\"model\"]\n",
    "print(thisdict)"
   ]
  },
  {
   "cell_type": "code",
   "execution_count": 61,
   "metadata": {
    "id": "cQSVijRl9WT1"
   },
   "outputs": [
    {
     "ename": "NameError",
     "evalue": "name 'thisdict' is not defined",
     "output_type": "error",
     "traceback": [
      "\u001b[1;31m---------------------------------------------------------------------------\u001b[0m",
      "\u001b[1;31mNameError\u001b[0m                                 Traceback (most recent call last)",
      "\u001b[1;32m~\\AppData\\Local\\Temp/ipykernel_12040/3105113223.py\u001b[0m in \u001b[0;36m<module>\u001b[1;34m\u001b[0m\n\u001b[0;32m      6\u001b[0m }\n\u001b[0;32m      7\u001b[0m \u001b[1;32mdel\u001b[0m \u001b[0mthisdict\u001b[0m\u001b[1;33m\u001b[0m\u001b[1;33m\u001b[0m\u001b[0m\n\u001b[1;32m----> 8\u001b[1;33m \u001b[0mprint\u001b[0m\u001b[1;33m(\u001b[0m\u001b[0mthisdict\u001b[0m\u001b[1;33m)\u001b[0m \u001b[1;31m#this will cause an error because \"thisdict\" no longer exists.\u001b[0m\u001b[1;33m\u001b[0m\u001b[1;33m\u001b[0m\u001b[0m\n\u001b[0m",
      "\u001b[1;31mNameError\u001b[0m: name 'thisdict' is not defined"
     ]
    }
   ],
   "source": [
    "#del can also delete the dictionary completely\n",
    "thisdict = {\n",
    "  \"brand\": \"Ford\",\n",
    "  \"model\": \"Mustang\",\n",
    "  \"year\": 1964\n",
    "}\n",
    "del thisdict\n",
    "print(thisdict) #this will cause an error because \"thisdict\" no longer exists."
   ]
  },
  {
   "cell_type": "code",
   "execution_count": 62,
   "metadata": {
    "id": "jboX0y_q9WT1"
   },
   "outputs": [
    {
     "name": "stdout",
     "output_type": "stream",
     "text": [
      "{}\n"
     ]
    }
   ],
   "source": [
    "# empties the dictionary\n",
    "thisdict = {\n",
    "  \"brand\": \"Ford\",\n",
    "  \"model\": \"Mustang\",\n",
    "  \"year\": 1964\n",
    "}\n",
    "thisdict.clear()\n",
    "print(thisdict)"
   ]
  },
  {
   "cell_type": "code",
   "execution_count": 65,
   "metadata": {
    "colab": {
     "base_uri": "https://localhost:8080/"
    },
    "id": "teG5QW_wEAvP",
    "outputId": "ae5d3d42-f3a3-4c23-fa39-9cd63e008717"
   },
   "outputs": [
    {
     "data": {
      "text/plain": [
       "6"
      ]
     },
     "execution_count": 65,
     "metadata": {},
     "output_type": "execute_result"
    }
   ],
   "source": [
    "# sum values \n",
    "s = {'a':1,'b':2,'c':3}\n",
    "sum(s.values())"
   ]
  },
  {
   "cell_type": "markdown",
   "metadata": {
    "id": "BQeqn3Y0PS3N"
   },
   "source": [
    "## **If Condition**\n",
    "An if statement is a conditional statement that runs or skips code based on whether a condition is true or false"
   ]
  },
  {
   "cell_type": "code",
   "execution_count": 68,
   "metadata": {
    "id": "VmEXMO1FgHBD"
   },
   "outputs": [
    {
     "name": "stdout",
     "output_type": "stream",
     "text": [
      "b is greater than a\n",
      "a = 200\n"
     ]
    }
   ],
   "source": [
    "a = 20\n",
    "b = 33\n",
    "if b > a:\n",
    "    print(\"b is greater than a\")\n",
    "elif a == b:\n",
    "    print(\"a and b are equal\")\n",
    "else:\n",
    "    print(\"a is greater than b\")\n",
    "    \n",
    "#print(\"a = 200\")"
   ]
  },
  {
   "cell_type": "code",
   "execution_count": 69,
   "metadata": {
    "id": "D-X2v8xqjaEb"
   },
   "outputs": [
    {
     "name": "stdout",
     "output_type": "stream",
     "text": [
      "Both conditions are True\n"
     ]
    }
   ],
   "source": [
    "# and \n",
    "a = 200\n",
    "b = 33\n",
    "c = 500\n",
    "if a > b and c > a:\n",
    "  print(\"Both conditions are True\")"
   ]
  },
  {
   "cell_type": "code",
   "execution_count": 70,
   "metadata": {
    "id": "v635fFUgR45w"
   },
   "outputs": [
    {
     "name": "stdout",
     "output_type": "stream",
     "text": [
      "At least one of the conditions is True\n"
     ]
    }
   ],
   "source": [
    "# OR \n",
    "a = 200\n",
    "b = 33\n",
    "c = 500\n",
    "if a > b or a > c:\n",
    "  print(\"At least one of the conditions is True\")"
   ]
  },
  {
   "cell_type": "code",
   "execution_count": null,
   "metadata": {
    "id": "gHDkpnTA9WT2"
   },
   "outputs": [],
   "source": [
    "points = 174\n",
    "\n",
    "# set prize to default value of None\n",
    "prize = None\n",
    "\n",
    "# use the value of points to assign prize to the correct prize name\n",
    "if points <= 50:\n",
    "    prize = \"wooden rabbit\"\n",
    "elif 151 <= points <= 180:  ############## Note\n",
    "    prize = \"wafer-thin mint\"\n",
    "elif points >= 181:\n",
    "    prize = \"penguin\"\n",
    "\n",
    "#prize = None\n",
    "\n",
    "\n",
    "# use the truth value of prize to assign result to the correct message\n",
    "if prize:\n",
    "    result = \"Congratulations! You won a {}!\".format(prize)\n",
    "else:\n",
    "    result = \"Oh dear, no prize this time.\"\n",
    "\n",
    "print(result)"
   ]
  },
  {
   "cell_type": "markdown",
   "metadata": {
    "id": "lOBbo8tqSCON"
   },
   "source": [
    "### Nested if"
   ]
  },
  {
   "cell_type": "code",
   "execution_count": 76,
   "metadata": {
    "id": "R6hJ0z1tSBfU"
   },
   "outputs": [
    {
     "name": "stdout",
     "output_type": "stream",
     "text": [
      "Above ten,\n",
      "but not above 20.\n"
     ]
    }
   ],
   "source": [
    "x = 15\n",
    "\n",
    "if x > 10:\n",
    "    print(\"Above ten,\")\n",
    "    if x > 20:\n",
    "        print(\"and also above 20!\")\n",
    "    else:\n",
    "        print(\"but not above 20.\")"
   ]
  },
  {
   "cell_type": "markdown",
   "metadata": {
    "id": "6Bg96kr9RKNp"
   },
   "source": [
    "### Ternary Operators, or Conditional Expressions."
   ]
  },
  {
   "cell_type": "code",
   "execution_count": 77,
   "metadata": {
    "id": "fTY9U-V3RKcW"
   },
   "outputs": [
    {
     "name": "stdout",
     "output_type": "stream",
     "text": [
      "a is greater than b\n"
     ]
    }
   ],
   "source": [
    "#One line if statement:\n",
    "\n",
    "if a > b: print(\"a is greater than b\")\n"
   ]
  },
  {
   "cell_type": "code",
   "execution_count": 78,
   "metadata": {
    "id": "7IeMGswzRX-v"
   },
   "outputs": [
    {
     "name": "stdout",
     "output_type": "stream",
     "text": [
      "B\n"
     ]
    }
   ],
   "source": [
    "#One line if else statement:\n",
    "a = 2\n",
    "b = 330\n",
    "print(\"A\") if a > b else print(\"B\")"
   ]
  },
  {
   "cell_type": "code",
   "execution_count": null,
   "metadata": {
    "id": "r4Vm2C0oRfoP"
   },
   "outputs": [],
   "source": [
    "#One line if else statement, with 3 conditions:\n",
    "\n",
    "a = 330\n",
    "b = 330\n",
    "print(\"A\") if a > b else print(\"=\") if a == b else print(\"B\")"
   ]
  },
  {
   "cell_type": "markdown",
   "metadata": {
    "id": "vYkm06wVSPHs"
   },
   "source": [
    "### empty if"
   ]
  },
  {
   "cell_type": "code",
   "execution_count": 80,
   "metadata": {
    "id": "Qdv0FQgwSPXc"
   },
   "outputs": [
    {
     "ename": "IndentationError",
     "evalue": "expected an indented block (Temp/ipykernel_12040/1959912124.py, line 4)",
     "output_type": "error",
     "traceback": [
      "\u001b[1;36m  File \u001b[1;32m\"C:\\Users\\nada9\\AppData\\Local\\Temp/ipykernel_12040/1959912124.py\"\u001b[1;36m, line \u001b[1;32m4\u001b[0m\n\u001b[1;33m    if b > a:\u001b[0m\n\u001b[1;37m             ^\u001b[0m\n\u001b[1;31mIndentationError\u001b[0m\u001b[1;31m:\u001b[0m expected an indented block\n"
     ]
    }
   ],
   "source": [
    "a = 33\n",
    "b = 200\n",
    "\n",
    "if b > a:\n",
    "      pass"
   ]
  },
  {
   "cell_type": "markdown",
   "metadata": {
    "id": "zSLzDW-oPUxT"
   },
   "source": [
    "## loops\n",
    "\n",
    "### For Loops Vs. While Loops\n",
    "Now that you are familiar with both for and while loops, let's consider when it's most helpful to use each of them.\n",
    "\n",
    "- for loops are ideal when the number of iterations is known or finite.\n",
    "\n",
    "- while loops are ideal when the iterations need to continue until a condition is met.\n"
   ]
  },
  {
   "cell_type": "markdown",
   "metadata": {
    "id": "9Tk2YYXVriPa"
   },
   "source": [
    "### For\n",
    "- var as counter\n",
    "- condition\n",
    "- increment / decrement\n",
    "\n",
    "#### **for i in range():**"
   ]
  },
  {
   "cell_type": "markdown",
   "metadata": {
    "id": "3qssW1IXlmT-"
   },
   "source": [
    "range(start=0, stop, step=1)\n",
    "\n",
    "*   The 'start' argument is the first number of the sequence. If unspecified,'start' defaults to 0.\n",
    "\n",
    "*   The 'stop' argument is 1 more than the last number of the sequence. This argument must be specified.\n",
    "\n",
    "\n",
    "*   The 'step' argument is the difference between each number in the sequence. If unspecified, 'step' defaults to 1.\n",
    "\n",
    "\n",
    "\n",
    "\n",
    "\n"
   ]
  },
  {
   "cell_type": "code",
   "execution_count": null,
   "metadata": {
    "colab": {
     "base_uri": "https://localhost:8080/"
    },
    "id": "t_owxBNZlXtt",
    "outputId": "c7092920-4c4a-406c-94c0-da4dbcf6c4bf"
   },
   "outputs": [
    {
     "name": "stdout",
     "output_type": "stream",
     "text": [
      "1\n",
      "3\n",
      "5\n",
      "7\n",
      "9\n"
     ]
    }
   ],
   "source": [
    "for i in range(1,10,2):\n",
    "    print(i)"
   ]
  },
  {
   "cell_type": "code",
   "execution_count": null,
   "metadata": {
    "colab": {
     "base_uri": "https://localhost:8080/"
    },
    "id": "x1ZEtnMHpEOP",
    "outputId": "25a37cac-968d-46aa-924f-e5e4fe9dd5a3"
   },
   "outputs": [
    {
     "name": "stdout",
     "output_type": "stream",
     "text": [
      "3\n",
      "4\n",
      "5\n"
     ]
    }
   ],
   "source": [
    "for i in range(3,6): # = range(3,6,1)\n",
    "    print(i)"
   ]
  },
  {
   "cell_type": "code",
   "execution_count": null,
   "metadata": {
    "colab": {
     "base_uri": "https://localhost:8080/"
    },
    "id": "OEkgQz5ClW4A",
    "outputId": "c6ec3550-75df-49b3-d070-4ba6df09354e"
   },
   "outputs": [
    {
     "name": "stdout",
     "output_type": "stream",
     "text": [
      "0\n",
      "1\n",
      "2\n"
     ]
    }
   ],
   "source": [
    "for i in range(3): # (0,3,1)\n",
    "    print(i)"
   ]
  },
  {
   "cell_type": "markdown",
   "metadata": {
    "id": "F3mIIxEpKcfM"
   },
   "source": [
    "**Loop in list**"
   ]
  },
  {
   "cell_type": "code",
   "execution_count": 85,
   "metadata": {
    "colab": {
     "base_uri": "https://localhost:8080/"
    },
    "id": "G_h1QNYxlOfB",
    "outputId": "e518fe2d-2848-4c2f-f841-c408308a9f8e"
   },
   "outputs": [
    {
     "name": "stdout",
     "output_type": "stream",
     "text": [
      "new york city\n",
      "Next\n",
      "mountain view\n",
      "Next\n",
      "chicago\n",
      "Next\n",
      "los angeles\n",
      "Next\n",
      "Done!\n"
     ]
    }
   ],
   "source": [
    "cities = ['new york city', 'mountain view', 'chicago', 'los angeles']\n",
    "for i in cities:\n",
    "    print(i)\n",
    "    print('Next')\n",
    "print(\"Done!\")"
   ]
  },
  {
   "cell_type": "code",
   "execution_count": 87,
   "metadata": {
    "colab": {
     "base_uri": "https://localhost:8080/"
    },
    "id": "OLDlAal3ppj4",
    "outputId": "ec61cf1d-dd0f-4aa0-d924-463625842b0a"
   },
   "outputs": [
    {
     "name": "stdout",
     "output_type": "stream",
     "text": [
      "New York City\n",
      "Mountain View\n"
     ]
    }
   ],
   "source": [
    "cities = ['new york city', 'mountain view', 'chicago', 'los angeles']\n",
    "for index in range(len(cities)-2): ## first 2\n",
    "    print(cities[index].title())"
   ]
  },
  {
   "cell_type": "code",
   "execution_count": 88,
   "metadata": {},
   "outputs": [
    {
     "data": {
      "text/plain": [
       "2"
      ]
     },
     "execution_count": 88,
     "metadata": {},
     "output_type": "execute_result"
    }
   ],
   "source": [
    "len(cities)-2"
   ]
  },
  {
   "cell_type": "code",
   "execution_count": 93,
   "metadata": {
    "colab": {
     "base_uri": "https://localhost:8080/"
    },
    "id": "Ue58n-C7pHnY",
    "outputId": "99254100-5a17-4f1a-86b7-d26d62934eae"
   },
   "outputs": [
    {
     "name": "stdout",
     "output_type": "stream",
     "text": [
      "joey_tribbiani\n",
      "monica_geller\n",
      "chandler_bing\n",
      "phoebe_buffay\n",
      "['joey_tribbiani', 'monica_geller', 'chandler_bing', 'phoebe_buffay']\n"
     ]
    }
   ],
   "source": [
    "# update list\n",
    "names = [\"Joey Tribbiani\", \"Monica Geller\", \"Chandler Bing\", \"Phoebe Buffay\"]\n",
    "names2=[]\n",
    "\n",
    "for name in names:\n",
    "    name = name.lower().replace(\" \", \"_\")\n",
    "    names2.append(name)\n",
    "    #names2+=[name] #SLOW\n",
    "    print(name)\n",
    "\n",
    "print(names2)"
   ]
  },
  {
   "cell_type": "code",
   "execution_count": 94,
   "metadata": {
    "colab": {
     "base_uri": "https://localhost:8080/"
    },
    "id": "4QZf2EiSq2dt",
    "outputId": "07ac356d-33c3-412d-8a5b-c86744e0f8a6"
   },
   "outputs": [
    {
     "name": "stdout",
     "output_type": "stream",
     "text": [
      "['joey_tribbiani', 'monica_geller', 'chandler_bing', 'phoebe_buffay']\n"
     ]
    }
   ],
   "source": [
    "names = [\"Joey Tribbiani\", \"Monica Geller\", \"Chandler Bing\", \"Phoebe Buffay\"]\n",
    "\n",
    "for i in range(len(names)):\n",
    "    names[i] = names[i].lower().replace(\" \", \"_\")\n",
    "\n",
    "print(names)"
   ]
  },
  {
   "cell_type": "code",
   "execution_count": 98,
   "metadata": {
    "id": "WjhlQ0u30TdZ"
   },
   "outputs": [
    {
     "name": "stdout",
     "output_type": "stream",
     "text": [
      "720\n"
     ]
    }
   ],
   "source": [
    "# number we'll find the factorial of\n",
    "\n",
    "number = 6  # 1*2*3*4*5*6\n",
    "\n",
    "# start with our product equal to one\n",
    "product = 1\n",
    "\n",
    "# calculate factorial of number with a for loop\n",
    "for num in range(2, number + 1):\n",
    "    product *= num\n",
    "    #print(product)\n",
    "    \n",
    "\n",
    "# print the factorial of number\n",
    "print(product)"
   ]
  },
  {
   "cell_type": "code",
   "execution_count": null,
   "metadata": {},
   "outputs": [],
   "source": [
    "# number we'll find the factorial of\n",
    "\n",
    "number = 6  # 1*2*3*4*5*6\n",
    "\n",
    "# start with our product equal to one\n",
    "product = 1\n",
    "\n",
    "# calculate factorial of number with a for loop\n",
    "for num in range(2, number + 1):\n",
    "    product *= num\n",
    "    \n",
    "    #print(product)\n",
    "    \n",
    "\n",
    "# print the factorial of number\n",
    "#print(product)"
   ]
  },
  {
   "cell_type": "code",
   "execution_count": null,
   "metadata": {
    "colab": {
     "base_uri": "https://localhost:8080/"
    },
    "id": "Pm4xIMHBp89U",
    "outputId": "c01a6800-83fa-45b6-979d-38754ee94fec"
   },
   "outputs": [
    {
     "data": {
      "text/plain": [
       "[0, 1, 4, 9, 16, 25, 36, 49, 64, 81]"
      ]
     },
     "execution_count": 1,
     "metadata": {},
     "output_type": "execute_result"
    }
   ],
   "source": [
    "# numbers between 0 and 10  power 2\n",
    "squares = []\n",
    "for n in range(10):\n",
    "    squares.append(n**2)\n",
    "squares"
   ]
  },
  {
   "cell_type": "code",
   "execution_count": 99,
   "metadata": {
    "id": "x4vTx5vSx-mp"
   },
   "outputs": [],
   "source": [
    "planets = ['Mercury', 'Venus', 'Earth', 'Mars', 'Jupiter', 'Saturn', 'Uranus', 'Neptune']\n"
   ]
  },
  {
   "cell_type": "code",
   "execution_count": null,
   "metadata": {
    "colab": {
     "base_uri": "https://localhost:8080/"
    },
    "id": "zFG_tKAOySFB",
    "outputId": "8cadeab0-7121-4fb4-fe34-a2990e14f3a1"
   },
   "outputs": [
    {
     "data": {
      "text/plain": [
       "['Venus', 'Earth', 'Mars']"
      ]
     },
     "execution_count": 32,
     "metadata": {},
     "output_type": "execute_result"
    }
   ],
   "source": [
    "# for if\n",
    "short_planets = []\n",
    "for planet in planets:\n",
    "       if len(planet) < 6:\n",
    "            short_planets.append(planet)\n",
    "short_planets"
   ]
  },
  {
   "cell_type": "markdown",
   "metadata": {
    "id": "08Y6sPzO8pma"
   },
   "source": [
    "**Loop in dictionary**"
   ]
  },
  {
   "cell_type": "code",
   "execution_count": 7,
   "metadata": {
    "colab": {
     "base_uri": "https://localhost:8080/"
    },
    "id": "hUyAMoO68pyr",
    "outputId": "433582b3-4464-445f-b757-93663b7c2e23"
   },
   "outputs": [
    {
     "name": "stdout",
     "output_type": "stream",
     "text": [
      "brand\n",
      "model\n",
      "year\n",
      "\n",
      "Second way\n",
      "\n",
      "brand\n",
      "model\n",
      "year\n"
     ]
    }
   ],
   "source": [
    "\n",
    "thisdict = {'brand': 'Ford', 'model': 'Mustang', 'year': 2020}\n",
    "\n",
    "# print keys 1st way:\n",
    "for x in thisdict:\n",
    "  print(x)\n",
    "\n",
    "print('\\nSecond way\\n')\n",
    "\n",
    "# print keys 2n way:\n",
    "for x in thisdict.keys():\n",
    "  print(x)"
   ]
  },
  {
   "cell_type": "code",
   "execution_count": 8,
   "metadata": {
    "colab": {
     "base_uri": "https://localhost:8080/"
    },
    "id": "aXLhg9GD9G4w",
    "outputId": "d691d365-4dca-4ba5-cdbc-1f595da014f3"
   },
   "outputs": [
    {
     "name": "stdout",
     "output_type": "stream",
     "text": [
      "Ford\n",
      "Mustang\n",
      "2020\n",
      "\n",
      "Second way\n",
      "\n",
      "Ford\n",
      "Mustang\n",
      "2020\n"
     ]
    }
   ],
   "source": [
    "thisdict = {'brand': 'Ford', 'model': 'Mustang', 'year': 2020}\n",
    "\n",
    "# print values 1st way:\n",
    "for x in thisdict:\n",
    "  print(thisdict[x])\n",
    "  \n",
    "print('\\nSecond way\\n')\n",
    "\n",
    "\n",
    "# print values 2n way:\n",
    "for x in thisdict.values():\n",
    "  print(x)"
   ]
  },
  {
   "cell_type": "code",
   "execution_count": 9,
   "metadata": {
    "colab": {
     "base_uri": "https://localhost:8080/"
    },
    "id": "WO6X8jy09HEj",
    "outputId": "78953d78-019b-4e25-f031-64da15dba9ec"
   },
   "outputs": [
    {
     "name": "stdout",
     "output_type": "stream",
     "text": [
      "brand Ford\n",
      "model Mustang\n",
      "year 2020\n"
     ]
    }
   ],
   "source": [
    "# print both key&value\n",
    "thisdict = {'brand': 'Ford', 'model': 'Mustang', 'year': 2020}\n",
    "\n",
    "for x, y in thisdict.items():\n",
    "  print(x, y)"
   ]
  },
  {
   "cell_type": "markdown",
   "metadata": {
    "id": "PjfeCNsKLlsm"
   },
   "source": [
    "**for else!**\n"
   ]
  },
  {
   "cell_type": "code",
   "execution_count": null,
   "metadata": {
    "colab": {
     "base_uri": "https://localhost:8080/"
    },
    "id": "g1axnCVPLlIV",
    "outputId": "2712c44d-7f48-4d7a-8240-6dece79e9291"
   },
   "outputs": [
    {
     "name": "stdout",
     "output_type": "stream",
     "text": [
      "0\n",
      "1\n",
      "2\n",
      "3\n",
      "4\n",
      "5\n",
      "Finally finished!\n"
     ]
    }
   ],
   "source": [
    "for x in range(6):\n",
    "  print(x)\n",
    "else:\n",
    "  print(\"Finally finished!\")"
   ]
  },
  {
   "cell_type": "code",
   "execution_count": null,
   "metadata": {
    "colab": {
     "base_uri": "https://localhost:8080/"
    },
    "id": "-uYH1Q9RLu7A",
    "outputId": "7d33a498-b965-4536-94c1-fa395c354468"
   },
   "outputs": [
    {
     "name": "stdout",
     "output_type": "stream",
     "text": [
      "0\n",
      "1\n",
      "2\n",
      "3\n",
      "4\n",
      "5\n",
      "Finally finished!\n"
     ]
    }
   ],
   "source": [
    "for x in range(6):\n",
    "  print(x)\n",
    "print(\"Finally finished!\")"
   ]
  },
  {
   "cell_type": "markdown",
   "metadata": {
    "id": "AL_YW0k7L_m1"
   },
   "source": [
    "**Nested Loop**\n"
   ]
  },
  {
   "cell_type": "code",
   "execution_count": 102,
   "metadata": {
    "colab": {
     "base_uri": "https://localhost:8080/"
    },
    "id": "LCuLMOr9L_ys",
    "outputId": "82645109-038f-4436-ace4-25f1d4a6fef9"
   },
   "outputs": [
    {
     "name": "stdout",
     "output_type": "stream",
     "text": [
      "red apple\n",
      "red banana\n",
      "red cherry\n",
      "big apple\n",
      "big banana\n",
      "big cherry\n",
      "tasty apple\n",
      "tasty banana\n",
      "tasty cherry\n"
     ]
    }
   ],
   "source": [
    "adj = [\"red\", \"big\", \"tasty\"]\n",
    "fruits = [\"apple\", \"banana\", \"cherry\"]\n",
    "\n",
    "for x in adj:\n",
    "      for y in fruits:\n",
    "        print(x, y)"
   ]
  },
  {
   "cell_type": "code",
   "execution_count": 104,
   "metadata": {},
   "outputs": [
    {
     "name": "stdout",
     "output_type": "stream",
     "text": [
      "red\n",
      "big\n",
      "tasty\n",
      "tasty apple\n",
      "tasty banana\n",
      "tasty cherry\n"
     ]
    }
   ],
   "source": [
    "for x in adj:\n",
    "    print(x)\n",
    "for y in fruits:\n",
    "    print(x, y)"
   ]
  },
  {
   "cell_type": "code",
   "execution_count": 106,
   "metadata": {},
   "outputs": [
    {
     "name": "stdout",
     "output_type": "stream",
     "text": [
      "red apple\n",
      "big banana\n",
      "tasty cherry\n"
     ]
    }
   ],
   "source": [
    "for i in range(3):\n",
    "    print(adj[i],fruits[i])"
   ]
  },
  {
   "cell_type": "markdown",
   "metadata": {
    "id": "odHjW40mru7s"
   },
   "source": [
    "### While"
   ]
  },
  {
   "cell_type": "code",
   "execution_count": null,
   "metadata": {
    "colab": {
     "base_uri": "https://localhost:8080/"
    },
    "id": "aoel3Pxa04b_",
    "outputId": "4091a45e-efda-406c-ab59-0b1a74909854"
   },
   "outputs": [
    {
     "name": "stdout",
     "output_type": "stream",
     "text": [
      "1 2 3 4 5 6 7 8 9 10 "
     ]
    }
   ],
   "source": [
    "i = 1\n",
    "while i <= 10:\n",
    "    print(i, end=' ')\n",
    "    i += 1 # increase the value of i by 1"
   ]
  },
  {
   "cell_type": "code",
   "execution_count": 107,
   "metadata": {
    "id": "Bfq_nZ_r04fo"
   },
   "outputs": [
    {
     "name": "stdout",
     "output_type": "stream",
     "text": [
      "720\n"
     ]
    }
   ],
   "source": [
    "\n",
    "# number to find the factorial of\n",
    "number = 6\n",
    "# start with our product equal to one\n",
    "product = 1\n",
    "# track the current number being multiplied\n",
    "current = 1\n",
    "\n",
    "while  current <= number:\n",
    "    # multiply the product so far by the current number\n",
    "    product *= current\n",
    "    # increment current with each iteration until it reaches number\n",
    "    current += 1\n",
    "\n",
    "\n",
    "# print the factorial of number\n",
    "print(product)"
   ]
  },
  {
   "cell_type": "markdown",
   "metadata": {
    "id": "Ur3jFJKtNGcH"
   },
   "source": [
    "**while else**"
   ]
  },
  {
   "cell_type": "code",
   "execution_count": null,
   "metadata": {
    "colab": {
     "base_uri": "https://localhost:8080/"
    },
    "id": "1oXB9H0bNJgE",
    "outputId": "9bd2a13a-2524-400a-9b81-9e446ab8c71a"
   },
   "outputs": [
    {
     "name": "stdout",
     "output_type": "stream",
     "text": [
      "1\n",
      "2\n",
      "3\n",
      "4\n",
      "5\n",
      "i is no longer less than 6\n"
     ]
    }
   ],
   "source": [
    "i = 1\n",
    "while i < 6:\n",
    "  print(i)\n",
    "  i += 1\n",
    "else:\n",
    "  print(\"i is no longer less than 6\")"
   ]
  },
  {
   "cell_type": "markdown",
   "metadata": {
    "id": "eOetYtlV58KN"
   },
   "source": [
    "### Break & Continue \n",
    "Sometimes we need more control over when a loop should end, or skip an iteration. In these cases, we use the break and continue keywords, which can be used in both for and while loops.\n",
    "- break terminates a loop\n",
    "- continue skips one iteration of a loop"
   ]
  },
  {
   "cell_type": "markdown",
   "metadata": {
    "id": "kYkBNoDsNU6N"
   },
   "source": [
    "**break**"
   ]
  },
  {
   "cell_type": "code",
   "execution_count": 10,
   "metadata": {
    "colab": {
     "base_uri": "https://localhost:8080/"
    },
    "id": "HD3Z_rBZOLN5",
    "outputId": "65e7af77-bee0-447a-fdbe-df53bc38c3e3"
   },
   "outputs": [
    {
     "name": "stdout",
     "output_type": "stream",
     "text": [
      "apple\n"
     ]
    }
   ],
   "source": [
    "fruits = [\"apple\", \"banana\", \"cherry\"]\n",
    "for x in fruits:\n",
    "  if x == \"banana\":\n",
    "    break\n",
    "  print(x)"
   ]
  },
  {
   "cell_type": "code",
   "execution_count": 112,
   "metadata": {
    "colab": {
     "base_uri": "https://localhost:8080/"
    },
    "id": "UHH5dkjm6Zpg",
    "outputId": "4970a82d-5cb5-40db-f817-c165abb22201"
   },
   "outputs": [
    {
     "ename": "IndentationError",
     "evalue": "unindent does not match any outer indentation level (<tokenize>, line 6)",
     "output_type": "error",
     "traceback": [
      "\u001b[1;36m  File \u001b[1;32m\"<tokenize>\"\u001b[1;36m, line \u001b[1;32m6\u001b[0m\n\u001b[1;33m    i += 1\u001b[0m\n\u001b[1;37m    ^\u001b[0m\n\u001b[1;31mIndentationError\u001b[0m\u001b[1;31m:\u001b[0m unindent does not match any outer indentation level\n"
     ]
    }
   ],
   "source": [
    "i = 1\n",
    "while i < 6:\n",
    "    if i == 3:\n",
    "    break\n",
    "    print(i)\n",
    "    i += 1"
   ]
  },
  {
   "cell_type": "markdown",
   "metadata": {
    "id": "eBACJaRGODOk"
   },
   "source": [
    "**continue**"
   ]
  },
  {
   "cell_type": "code",
   "execution_count": 120,
   "metadata": {
    "colab": {
     "base_uri": "https://localhost:8080/"
    },
    "id": "9w7AsbxyOKsj",
    "outputId": "c8e330ef-d928-4197-a8c4-b1b6b93a86a1"
   },
   "outputs": [
    {
     "name": "stdout",
     "output_type": "stream",
     "text": [
      "apple\n",
      "cherry\n"
     ]
    }
   ],
   "source": [
    "fruits = [\"apple\", \"banana\", \"cherry\"]\n",
    "for x in fruits:\n",
    "    if x == \"banana\":\n",
    "        continue\n",
    "    print(x)"
   ]
  },
  {
   "cell_type": "code",
   "execution_count": 13,
   "metadata": {
    "colab": {
     "base_uri": "https://localhost:8080/"
    },
    "id": "qctyaFnbOG8c",
    "outputId": "0997c2f8-b19c-44cb-c87d-7b15845f3617"
   },
   "outputs": [
    {
     "name": "stdout",
     "output_type": "stream",
     "text": [
      "1\n",
      "2\n",
      "4\n",
      "5\n",
      "6\n"
     ]
    }
   ],
   "source": [
    "i = 0\n",
    "while i < 6:\n",
    "  i += 1\n",
    "  if i == 3:\n",
    "    continue\n",
    "  print(i)"
   ]
  },
  {
   "cell_type": "markdown",
   "metadata": {
    "id": "nBZWdoEWQzAT"
   },
   "source": [
    "## Functions"
   ]
  },
  {
   "cell_type": "code",
   "execution_count": 1,
   "metadata": {
    "id": "-yum3npLRwdF"
   },
   "outputs": [],
   "source": [
    "# Creating a Function\n",
    "def my_function():\n",
    "      print(\"Hello from a function\")"
   ]
  },
  {
   "cell_type": "code",
   "execution_count": 2,
   "metadata": {
    "id": "4wfND8ZPSVTB"
   },
   "outputs": [
    {
     "name": "stdout",
     "output_type": "stream",
     "text": [
      "Hello from a function\n"
     ]
    }
   ],
   "source": [
    "#calling\n",
    "\n",
    "def my_function():\n",
    "  print(\"Hello from a function\")\n",
    "\n",
    "my_function()"
   ]
  },
  {
   "cell_type": "code",
   "execution_count": 124,
   "metadata": {
    "id": "efIL5DmrSodF"
   },
   "outputs": [
    {
     "name": "stdout",
     "output_type": "stream",
     "text": [
      "Enter nameNada\n",
      "First Name isNada \n"
     ]
    }
   ],
   "source": [
    "#function with arg\n",
    "\n",
    "def my_function():\n",
    "    fname = input('Enter name')\n",
    "    print(f\"First Name is{fname} \")\n",
    "\n",
    "my_function()"
   ]
  },
  {
   "cell_type": "code",
   "execution_count": 125,
   "metadata": {
    "id": "IQX31mZ6WW-4"
   },
   "outputs": [
    {
     "name": "stdout",
     "output_type": "stream",
     "text": [
      "Emil Refsnes\n"
     ]
    }
   ],
   "source": [
    "def my_function(fname, lname):\n",
    "  print(fname + \" \" + lname)\n",
    "\n",
    "my_function(\"Emil\", \"Refsnes\")"
   ]
  },
  {
   "cell_type": "code",
   "execution_count": 126,
   "metadata": {
    "id": "QIKXyMSPWXxH"
   },
   "outputs": [
    {
     "ename": "TypeError",
     "evalue": "my_function() missing 1 required positional argument: 'lname'",
     "output_type": "error",
     "traceback": [
      "\u001b[1;31m---------------------------------------------------------------------------\u001b[0m",
      "\u001b[1;31mTypeError\u001b[0m                                 Traceback (most recent call last)",
      "\u001b[1;32m~\\AppData\\Local\\Temp/ipykernel_12040/2663467011.py\u001b[0m in \u001b[0;36m<module>\u001b[1;34m\u001b[0m\n\u001b[0;32m      2\u001b[0m   \u001b[0mprint\u001b[0m\u001b[1;33m(\u001b[0m\u001b[0mfname\u001b[0m \u001b[1;33m+\u001b[0m \u001b[1;34m\" \"\u001b[0m \u001b[1;33m+\u001b[0m \u001b[0mlname\u001b[0m\u001b[1;33m)\u001b[0m\u001b[1;33m\u001b[0m\u001b[1;33m\u001b[0m\u001b[0m\n\u001b[0;32m      3\u001b[0m \u001b[1;33m\u001b[0m\u001b[0m\n\u001b[1;32m----> 4\u001b[1;33m \u001b[0mmy_function\u001b[0m\u001b[1;33m(\u001b[0m\u001b[1;34m\"Emil\"\u001b[0m\u001b[1;33m)\u001b[0m\u001b[1;33m\u001b[0m\u001b[1;33m\u001b[0m\u001b[0m\n\u001b[0m",
      "\u001b[1;31mTypeError\u001b[0m: my_function() missing 1 required positional argument: 'lname'"
     ]
    }
   ],
   "source": [
    "def my_function(fname, lname):\n",
    "  print(fname + \" \" + lname)\n",
    "\n",
    "my_function(\"Emil\")"
   ]
  },
  {
   "cell_type": "code",
   "execution_count": null,
   "metadata": {},
   "outputs": [],
   "source": [
    "#number of arguments is unknown\n",
    "\n",
    "def my_function(*kids):\n",
    "  print(\"The youngest child is \" + kids[2])\n",
    "\n",
    "my_function(\"Emil\", \"Tobias\", \"Linus\")"
   ]
  },
  {
   "cell_type": "code",
   "execution_count": 129,
   "metadata": {
    "colab": {
     "base_uri": "https://localhost:8080/"
    },
    "id": "AkufOrIyWaE-",
    "outputId": "773e75c9-5343-428e-d903-e8c32ebbae38"
   },
   "outputs": [
    {
     "name": "stdout",
     "output_type": "stream",
     "text": [
      "The youngest child is  ('Emil', 'Tobias', 'Linus')\n"
     ]
    }
   ],
   "source": [
    "#number of arguments is unknown\n",
    "\n",
    "def my_function(*kids):\n",
    "  print(\"The youngest child is \" , kids)\n",
    "\n",
    "my_function(\"Emil\", \"Tobias\", \"Linus\")"
   ]
  },
  {
   "cell_type": "code",
   "execution_count": 130,
   "metadata": {},
   "outputs": [
    {
     "name": "stdout",
     "output_type": "stream",
     "text": [
      "The youngest child is \n"
     ]
    }
   ],
   "source": [
    "\n",
    "def my_function(*kids):\n",
    "      print(\"The youngest child is \" )\n",
    "\n",
    "my_function()"
   ]
  },
  {
   "cell_type": "code",
   "execution_count": 7,
   "metadata": {
    "id": "R_i0xoKdYfF4"
   },
   "outputs": [
    {
     "name": "stdout",
     "output_type": "stream",
     "text": [
      "apple\n",
      "banana\n",
      "cherry\n"
     ]
    }
   ],
   "source": [
    "# pass list\n",
    "def my_function(food):\n",
    "      for x in food:\n",
    "        print(x)\n",
    "\n",
    "fruits = [\"apple\", \"banana\", \"cherry\"]\n",
    "\n",
    "my_function(fruits)"
   ]
  },
  {
   "cell_type": "code",
   "execution_count": 135,
   "metadata": {},
   "outputs": [
    {
     "name": "stdout",
     "output_type": "stream",
     "text": [
      "His last name is  Refsnes\n"
     ]
    }
   ],
   "source": [
    "#number of arguments is unknown\n",
    "\n",
    "def my_function(**kid):\n",
    "      print(\"His last name is \" , kid[\"lname\"])\n",
    "\n",
    "my_function(fname = 'N', lname = \"Refsnes\") #dict"
   ]
  },
  {
   "cell_type": "code",
   "execution_count": 133,
   "metadata": {
    "colab": {
     "base_uri": "https://localhost:8080/"
    },
    "id": "S0jQO38hWrlW",
    "outputId": "098c8061-5a71-4eae-f4ab-21b3739cea81"
   },
   "outputs": [
    {
     "name": "stdout",
     "output_type": "stream",
     "text": [
      "His last name is  2\n"
     ]
    }
   ],
   "source": [
    "#number of arguments is unknown\n",
    "\n",
    "def my_function(**kid):\n",
    "  print(\"His last name is \" , kid[\"fname\"][1])\n",
    "\n",
    "my_function(fname = [1,2], lname = \"Refsnes\") #dict"
   ]
  },
  {
   "cell_type": "code",
   "execution_count": 139,
   "metadata": {
    "colab": {
     "base_uri": "https://localhost:8080/"
    },
    "id": "MkeCBEjQX5Qe",
    "outputId": "2f3c18de-855b-4b70-e545-a69225973022"
   },
   "outputs": [
    {
     "name": "stdout",
     "output_type": "stream",
     "text": [
      "I am from Sweden\n",
      "I am from India\n"
     ]
    }
   ],
   "source": [
    "#defult paramter value\n",
    "def my_function(country = \"India\"):\n",
    "      print(\"I am from \" + country)\n",
    "\n",
    "my_function(\"Sweden\")\n",
    "my_function()"
   ]
  },
  {
   "cell_type": "code",
   "execution_count": null,
   "metadata": {},
   "outputs": [],
   "source": [
    "def my_function(country = \"India\"):\n",
    "      print(\"I am from \" + country)\n",
    "\n",
    "my_function(\"Sweden\")\n",
    "my_function()"
   ]
  },
  {
   "cell_type": "code",
   "execution_count": 140,
   "metadata": {
    "colab": {
     "base_uri": "https://localhost:8080/"
    },
    "id": "t2JSrl0NYXla",
    "outputId": "a4a141c3-071d-48d7-a3e7-c2d1fae0617a"
   },
   "outputs": [
    {
     "data": {
      "text/plain": [
       "15"
      ]
     },
     "execution_count": 140,
     "metadata": {},
     "output_type": "execute_result"
    }
   ],
   "source": [
    "#return value \n",
    "def my_function(x):\n",
    "      return 5 * x\n",
    "x = my_function(3)\n",
    "print(my_function(3) + 3)\n",
    "print(my_function(5))"
   ]
  },
  {
   "cell_type": "code",
   "execution_count": 145,
   "metadata": {},
   "outputs": [
    {
     "name": "stdout",
     "output_type": "stream",
     "text": [
      "Enter your salary8000\n",
      "Salary = 8000, bouns= 1600.0, total = 9600.0\n"
     ]
    }
   ],
   "source": [
    "def bouns(x):\n",
    "    return x*0.2 # the bouns = 20%\n",
    "\n",
    "x= int(input(\"Enter your salary\"))\n",
    "b =bouns(x)\n",
    "Y = x+ b\n",
    "print(f\"Salary = {x}, bouns= {b}, total = {Y}\")"
   ]
  },
  {
   "cell_type": "markdown",
   "metadata": {
    "id": "yUeWrlE9Q4-4"
   },
   "source": [
    "## Pandas\n",
    "[CLICK HERE FOR COURSE](https://learn.365datascience.com/courses/preview/data-cleaning-preprocessing-pandas/)\n"
   ]
  },
  {
   "cell_type": "markdown",
   "metadata": {
    "id": "0zKg-OXM7MKd"
   },
   "source": [
    "high-performance, easy-to-use data structures and data analysis tools for Python."
   ]
  },
  {
   "cell_type": "markdown",
   "metadata": {
    "id": "SAuudJYQ6qg6"
   },
   "source": [
    "![Screenshot 2022-11-16 165129.png](data:image/png;base64,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)"
   ]
  },
  {
   "cell_type": "code",
   "execution_count": null,
   "metadata": {
    "id": "trJ-nZFb6rc_"
   },
   "outputs": [],
   "source": [
    "# !pip install pandas"
   ]
  },
  {
   "cell_type": "code",
   "execution_count": 146,
   "metadata": {
    "id": "y7J-Dp9CgLXT"
   },
   "outputs": [],
   "source": [
    "import pandas as pd"
   ]
  },
  {
   "cell_type": "markdown",
   "metadata": {
    "id": "UVf6q2OY_WML"
   },
   "source": [
    "**Series**"
   ]
  },
  {
   "cell_type": "code",
   "execution_count": 10,
   "metadata": {
    "colab": {
     "base_uri": "https://localhost:8080/"
    },
    "id": "zXSGNmDM8JPG",
    "outputId": "0b8eaa56-87a6-443d-c1db-9d316490f66b"
   },
   "outputs": [
    {
     "name": "stdout",
     "output_type": "stream",
     "text": [
      "0    1\n",
      "1    7\n",
      "2    2\n",
      "dtype: int64\n"
     ]
    }
   ],
   "source": [
    "#series\n",
    "\n",
    "a = [1, 7, 2]\n",
    "\n",
    "myvar = pd.Series(a)\n",
    "\n",
    "print(myvar)"
   ]
  },
  {
   "cell_type": "code",
   "execution_count": 147,
   "metadata": {
    "colab": {
     "base_uri": "https://localhost:8080/"
    },
    "id": "8--iF4-q_jQz",
    "outputId": "77926453-09bc-45c3-bea8-cedb735845a6"
   },
   "outputs": [
    {
     "name": "stdout",
     "output_type": "stream",
     "text": [
      "x    1\n",
      "y    7\n",
      "z    2\n",
      "dtype: int64\n"
     ]
    }
   ],
   "source": [
    "#Lable\n",
    "\n",
    "a = [1, 7, 2]\n",
    "\n",
    "myvar = pd.Series(a, index = [\"x\", \"y\", \"z\"])\n",
    "\n",
    "print(myvar)"
   ]
  },
  {
   "cell_type": "code",
   "execution_count": 148,
   "metadata": {},
   "outputs": [
    {
     "data": {
      "text/plain": [
       "1"
      ]
     },
     "execution_count": 148,
     "metadata": {},
     "output_type": "execute_result"
    }
   ],
   "source": [
    "myvar['x']"
   ]
  },
  {
   "cell_type": "markdown",
   "metadata": {
    "id": "1XQJXLXb_0-E"
   },
   "source": [
    "**data frames**"
   ]
  },
  {
   "cell_type": "code",
   "execution_count": 12,
   "metadata": {
    "colab": {
     "base_uri": "https://localhost:8080/"
    },
    "id": "58PHWGS08KSd",
    "outputId": "537e39c6-2512-496b-ac8c-6b4a5c43e4d9"
   },
   "outputs": [
    {
     "name": "stdout",
     "output_type": "stream",
     "text": [
      "{'calories': [420, 380, 390], 'duration': [50, 40, 45]} \n",
      "\n",
      "   calories  duration\n",
      "0       420        50\n",
      "1       380        40\n",
      "2       390        45\n"
     ]
    }
   ],
   "source": [
    "data = {\n",
    "  \"calories\": [420, 380, 390],\n",
    "  \"duration\": [50, 40, 45]\n",
    "}\n",
    "\n",
    "print(data,'\\n')\n",
    "\n",
    "#load data into a DataFrame object:\n",
    "df = pd.DataFrame(data)\n",
    "\n",
    "print(df) "
   ]
  },
  {
   "cell_type": "code",
   "execution_count": 156,
   "metadata": {
    "colab": {
     "base_uri": "https://localhost:8080/",
     "height": 143
    },
    "id": "Rj2wjxKxAZlD",
    "outputId": "6737f2de-e3c3-42eb-8ba8-81a4509a1649"
   },
   "outputs": [
    {
     "data": {
      "text/html": [
       "<div>\n",
       "<style scoped>\n",
       "    .dataframe tbody tr th:only-of-type {\n",
       "        vertical-align: middle;\n",
       "    }\n",
       "\n",
       "    .dataframe tbody tr th {\n",
       "        vertical-align: top;\n",
       "    }\n",
       "\n",
       "    .dataframe thead th {\n",
       "        text-align: right;\n",
       "    }\n",
       "</style>\n",
       "<table border=\"1\" class=\"dataframe\">\n",
       "  <thead>\n",
       "    <tr style=\"text-align: right;\">\n",
       "      <th></th>\n",
       "      <th>calories</th>\n",
       "      <th>duration</th>\n",
       "    </tr>\n",
       "  </thead>\n",
       "  <tbody>\n",
       "    <tr>\n",
       "      <th>day1</th>\n",
       "      <td>420</td>\n",
       "      <td>50</td>\n",
       "    </tr>\n",
       "    <tr>\n",
       "      <th>day2</th>\n",
       "      <td>380</td>\n",
       "      <td>40</td>\n",
       "    </tr>\n",
       "    <tr>\n",
       "      <th>day3</th>\n",
       "      <td>390</td>\n",
       "      <td>45</td>\n",
       "    </tr>\n",
       "  </tbody>\n",
       "</table>\n",
       "</div>"
      ],
      "text/plain": [
       "      calories  duration\n",
       "day1       420        50\n",
       "day2       380        40\n",
       "day3       390        45"
      ]
     },
     "execution_count": 156,
     "metadata": {},
     "output_type": "execute_result"
    }
   ],
   "source": [
    "df = pd.DataFrame(data, index = [\"day\", \"day2\", \"day3\"])\n",
    "df"
   ]
  },
  {
   "cell_type": "markdown",
   "metadata": {
    "id": "T9ypi-m1GA5S"
   },
   "source": [
    "**convert list to dataframe [Click Here](https://datatofish.com/list-to-dataframe/)**"
   ]
  },
  {
   "cell_type": "code",
   "execution_count": 157,
   "metadata": {
    "id": "YPLMeAJUBNV2"
   },
   "outputs": [],
   "source": [
    "#save dataframe to csv file\n",
    "df.to_csv('file1.csv')\n"
   ]
  },
  {
   "cell_type": "code",
   "execution_count": 158,
   "metadata": {
    "id": "oaREHsnADNYC"
   },
   "outputs": [],
   "source": [
    "#save dataframe to csv file witout header and index\n",
    "\n",
    "df.to_csv('file2.csv', header=False, index=False)\n"
   ]
  },
  {
   "cell_type": "code",
   "execution_count": 164,
   "metadata": {
    "id": "2DjyBGz4DLQn"
   },
   "outputs": [],
   "source": [
    "#convert dataframe to csv file \n",
    "\n",
    "df.to_csv(r'C:\\Users\\nada9\\Desktop\\Test\\file3.csv')\n"
   ]
  },
  {
   "cell_type": "code",
   "execution_count": 166,
   "metadata": {
    "id": "p3bGsmB9FYO7"
   },
   "outputs": [
    {
     "data": {
      "text/html": [
       "<div>\n",
       "<style scoped>\n",
       "    .dataframe tbody tr th:only-of-type {\n",
       "        vertical-align: middle;\n",
       "    }\n",
       "\n",
       "    .dataframe tbody tr th {\n",
       "        vertical-align: top;\n",
       "    }\n",
       "\n",
       "    .dataframe thead th {\n",
       "        text-align: right;\n",
       "    }\n",
       "</style>\n",
       "<table border=\"1\" class=\"dataframe\">\n",
       "  <thead>\n",
       "    <tr style=\"text-align: right;\">\n",
       "      <th></th>\n",
       "      <th>Unnamed: 0</th>\n",
       "      <th>calories</th>\n",
       "      <th>duration</th>\n",
       "    </tr>\n",
       "  </thead>\n",
       "  <tbody>\n",
       "    <tr>\n",
       "      <th>0</th>\n",
       "      <td>day1</td>\n",
       "      <td>420</td>\n",
       "      <td>50</td>\n",
       "    </tr>\n",
       "    <tr>\n",
       "      <th>1</th>\n",
       "      <td>day2</td>\n",
       "      <td>380</td>\n",
       "      <td>40</td>\n",
       "    </tr>\n",
       "    <tr>\n",
       "      <th>2</th>\n",
       "      <td>day3</td>\n",
       "      <td>390</td>\n",
       "      <td>45</td>\n",
       "    </tr>\n",
       "  </tbody>\n",
       "</table>\n",
       "</div>"
      ],
      "text/plain": [
       "  Unnamed: 0  calories  duration\n",
       "0       day1       420        50\n",
       "1       day2       380        40\n",
       "2       day3       390        45"
      ]
     },
     "execution_count": 166,
     "metadata": {},
     "output_type": "execute_result"
    }
   ],
   "source": [
    "#read csv\n",
    "Data = pd.read_csv(r'C:\\Users\\nada9\\Desktop\\Test\\file3.csv')\n",
    "Data"
   ]
  },
  {
   "cell_type": "code",
   "execution_count": null,
   "metadata": {},
   "outputs": [],
   "source": []
  }
 ],
 "metadata": {
  "colab": {
   "collapsed_sections": [
    "S67Mnm10aUCb",
    "XeQlbI1zPgSy",
    "fX5hXwvB9WTw",
    "0f-xXIb69WTx",
    "arBxytit9WTy",
    "5r2FkN4n9WTy",
    "BQeqn3Y0PS3N",
    "lOBbo8tqSCON",
    "6Bg96kr9RKNp"
   ],
   "provenance": []
  },
  "kernelspec": {
   "display_name": "Python 3 (ipykernel)",
   "language": "python",
   "name": "python3"
  },
  "language_info": {
   "codemirror_mode": {
    "name": "ipython",
    "version": 3
   },
   "file_extension": ".py",
   "mimetype": "text/x-python",
   "name": "python",
   "nbconvert_exporter": "python",
   "pygments_lexer": "ipython3",
   "version": "3.9.7"
  }
 },
 "nbformat": 4,
 "nbformat_minor": 1
}
